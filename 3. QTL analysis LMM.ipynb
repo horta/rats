{
 "cells": [
  {
   "cell_type": "code",
   "execution_count": 1,
   "metadata": {},
   "outputs": [
    {
     "name": "stderr",
     "output_type": "stream",
     "text": [
      "/nfs/software/stegle/users/horta/conda-envs/rats/lib/python3.6/importlib/_bootstrap.py:219: RuntimeWarning: numpy.dtype size changed, may indicate binary incompatibility. Expected 96, got 88\n",
      "  return f(*args, **kwds)\n"
     ]
    }
   ],
   "source": [
    "from tqdm import tqdm\n",
    "import pdb\n",
    "import limix\n",
    "import pickle as pkl\n",
    "import numpy as np\n",
    "import seaborn as sns\n",
    "from matplotlib import pyplot as plt\n",
    "from numpy import asarray\n",
    "import xarray as xr\n",
    "from copy import deepcopy\n",
    "import os\n",
    "from os.path import join\n",
    "import simplejson as json\n",
    "import hashlib\n",
    "import pandas as pd\n",
    "import pdb\n",
    "from glob import glob\n",
    "import h5py\n",
    "import re\n",
    "from plot import plot_poisson_ordered, plot_distplots, plot_distplot\n",
    "from util import get_amelie_selection\n",
    "import h5py\n",
    "import dask\n",
    "import dask.dataframe\n",
    "import dask.array\n",
    "from urllib.request import urlopen\n",
    "try:\n",
    "    import ipfsapi\n",
    "    has_ipfs = True\n",
    "except ModuleNotFoundError:\n",
    "    has_ipfs = False\n",
    "\n",
    "\n",
    "if has_ipfs:\n",
    "    try:\n",
    "        ipfs = ipfsapi.connect('127.0.0.1', 5001)\n",
    "    except Exception:\n",
    "        has_ipfs = False\n",
    "\n",
    "only_hash = True"
   ]
  },
  {
   "cell_type": "markdown",
   "metadata": {},
   "source": [
    "# Load data (Amelie's and Hannah's)"
   ]
  },
  {
   "cell_type": "code",
   "execution_count": 2,
   "metadata": {},
   "outputs": [],
   "source": [
    "if os.path.exists(\"data/traits-kinship-hannah-amelie.pkl\"):\n",
    "    data = pkl.load(open(\"data/traits-kinship-hannah-amelie.pkl\", \"rb\"))\n",
    "else:\n",
    "    url = \"http://ipfs.io/ipfs/QmXtFuoA3JTkhhpUpqh4dyu3FJLUG7DWAmXwUk1N2TMbAh\"\n",
    "    data = pkl.load(urlopen(url))\n",
    "    \n",
    "dst_folder = \"3\"\n",
    "if not os.path.exists(dst_folder):\n",
    "    os.mkdir(dst_folder)\n",
    "if not os.path.exists(join(dst_folder, 'phenotype')):\n",
    "    os.mkdir(join(dst_folder, 'phenotype'))\n",
    "if not os.path.exists(join(dst_folder, 'kinship')):\n",
    "    os.mkdir(join(dst_folder, 'kinship'))"
   ]
  },
  {
   "cell_type": "code",
   "execution_count": 3,
   "metadata": {},
   "outputs": [],
   "source": [
    "def isbernoulli(x):\n",
    "    x = np.asarray(x, float)\n",
    "    u = np.unique(x)\n",
    "    if len(u) == 2:\n",
    "        return True\n",
    "    return False\n",
    "\n",
    "def get_bernoulli(x):\n",
    "    x = np.asarray(x, float)\n",
    "    u = np.unique(x)\n",
    "    i0 = x == u[0]\n",
    "    i1 = x == u[1]\n",
    "    x[i0] = 0.0\n",
    "    x[i1] = 1.0\n",
    "    return x\n",
    "\n",
    "def isdiscrete(x):\n",
    "    x = np.asarray(x, float)\n",
    "    ok = np.isfinite(x)\n",
    "    return all(x[ok] == np.asarray(x[ok], int))\n",
    "\n",
    "def get_poisson(x):\n",
    "    x = np.asarray(x, float)\n",
    "    mi = min(x)    \n",
    "    if mi < 0:\n",
    "        x += -mi\n",
    "    return x\n",
    "\n",
    "def isnumber(x):\n",
    "    try:\n",
    "        np.asarray(x, float)\n",
    "    except ValueError:\n",
    "        return False\n",
    "    return True"
   ]
  },
  {
   "cell_type": "code",
   "execution_count": 4,
   "metadata": {},
   "outputs": [],
   "source": [
    "def analysis_QTL(G, pheno, kinship, pheno_name, lik, pheno_norm):\n",
    "    common_samples = set(kinship.index.values).intersection(set(pheno.index.values))\n",
    "    common_samples = np.asarray(list(common_samples))\n",
    "    \n",
    "    pheno = pheno.reindex(common_samples).copy()\n",
    "    kinship = kinship.reindex(index=common_samples).copy()\n",
    "    kinship = kinship.reindex(columns=common_samples).copy()\n",
    "    \n",
    "    assert(all(kinship.index.values == kinship.columns.values))\n",
    "    assert(all(kinship.index.values == pheno.index.values))\n",
    "\n",
    "    ok = np.isfinite(pheno.loc[:, pheno_name])\n",
    "    common_samples = common_samples[ok]\n",
    "    \n",
    "    pheno = pheno.reindex(common_samples).copy()\n",
    "    kinship = kinship.reindex(index=common_samples).copy()\n",
    "    kinship = kinship.reindex(columns=common_samples).copy()\n",
    "    \n",
    "    assert(all(kinship.index.values == kinship.columns.values))\n",
    "    assert(all(kinship.index.values == pheno.index.values))\n",
    "    \n",
    "    if not all(np.isfinite(pheno[pheno_name])):\n",
    "        raise ValueError(\"not all finite: {}\".format(pheno_name))\n",
    "    \n",
    "    y = pheno_norm(pheno.loc[:, pheno_name])\n",
    "    y = pd.Series(y, index=pheno.loc[:, pheno_name].index)\n",
    "    \n",
    "#     phenotype_series = pd.Series(y, pheno.loc[:, pheno_name].index.values)\n",
    "    obj = pkl.dumps(y)\n",
    "    m = hashlib.sha1()\n",
    "    m.update(obj)\n",
    "    phenotype_hex = m.hexdigest()\n",
    "    with open(join(dst_folder, \"phenotype\", phenotype_hex + \".series.pkl\"), \"wb\") as f:\n",
    "        f.write(obj)\n",
    "    \n",
    "    obj = pkl.dumps(kinship)\n",
    "    m = hashlib.sha1()\n",
    "    m.update(obj)\n",
    "    kinship_hex = m.hexdigest()\n",
    "    with open(join(dst_folder, \"kinship\", kinship_hex + \".dataframe.pkl\"), \"wb\") as f:\n",
    "        f.write(obj)\n",
    "\n",
    "    try:\n",
    "        call = \"limix.qtl.scan(G, y, lik, kinship, verbose=True)\"\n",
    "        model = limix.qtl.scan(G, y, lik, kinship, verbose=True)\n",
    "    except ValueError as e:\n",
    "        print(e)\n",
    "        print(\"Pheno name: {}\".format(pheno_name))\n",
    "        return None\n",
    "\n",
    "    return dict(pv=list(asarray(model.variant_pvalues)), lik=lik, call=call, phenotype=phenotype_hex, kinship=kinship_hex,\n",
    "                null_covariate_effsizes=list(asarray(model.null_covariate_effsizes)),\n",
    "                variant_effsizes=list(asarray(model.variant_effsizes)), variant_effsizes_se=list(asarray(model.variant_effsizes_se)))"
   ]
  },
  {
   "cell_type": "code",
   "execution_count": 5,
   "metadata": {},
   "outputs": [],
   "source": [
    "f = h5py.File(\"arrayexpress/HS.hdf5\", \"r\")\n",
    "samples = np.asarray(f[\"/imputed_genotypes/row_header/rat\"].value)\n",
    "samples = [i.decode() for i in samples]\n",
    "f.close()"
   ]
  },
  {
   "cell_type": "code",
   "execution_count": 6,
   "metadata": {
    "scrolled": false
   },
   "outputs": [],
   "source": [
    "data0 = deepcopy(data)\n",
    "remove = []\n",
    "for name in data0['measures'].columns.values:\n",
    "    if isnumber(data0['measures'].loc[:, name]) and isdiscrete(data0['measures'].loc[:, name]):\n",
    "        data0['measures'].loc[:, name] = get_poisson(data0['measures'].loc[:, name])\n",
    "    else:\n",
    "        remove.append(name)\n",
    "for name in remove:\n",
    "    del data0['measures'][name]"
   ]
  },
  {
   "cell_type": "code",
   "execution_count": 7,
   "metadata": {},
   "outputs": [
    {
     "name": "stderr",
     "output_type": "stream",
     "text": [
      "100%|██████████| 21/21 [00:00<00:00, 53.35it/s]\n"
     ]
    }
   ],
   "source": [
    "Gs = []\n",
    "for i in tqdm(range(1, 22)):\n",
    "    G = xr.open_dataarray(\"arrayexpress/HS.hdf5\", \"/imputed_genotypes/chr{}\".format(i),\n",
    "                          chunks=1000)\n",
    "    G = G.rename({G.dims[0]: \"snps\", G.dims[1]: \"samples\"})\n",
    "    Gs.append(G)"
   ]
  },
  {
   "cell_type": "code",
   "execution_count": 8,
   "metadata": {},
   "outputs": [],
   "source": [
    "G = xr.concat(Gs, dim=\"snps\").T\n",
    "G['samples'] = samples\n",
    "G['snps'] = range(G.shape[1])"
   ]
  },
  {
   "cell_type": "code",
   "execution_count": null,
   "metadata": {
    "scrolled": false
   },
   "outputs": [
    {
     "name": "stdout",
     "output_type": "stream",
     "text": [
      "Processing: Boli_tot\n",
      "Processing: Distance0_30\n",
      "Processing: Distance10_15\n",
      "Processing: Distance15_20\n",
      "Processing: Distance20_25\n"
     ]
    },
    {
     "data": {
      "text/html": [
       "<pre><b><span style='color:#0C68C7'>============================= qtl analysis session starts ==============================</span></b></pre>"
      ],
      "text/plain": [
       "============================= qtl analysis session starts =============================="
      ]
     },
     "metadata": {},
     "output_type": "display_data"
    },
    {
     "name": "stdout",
     "output_type": "stream",
     "text": [
      "Normalising input... "
     ]
    },
    {
     "name": "stderr",
     "output_type": "stream",
     "text": [
      "/nfs/software/stegle/users/horta/conda-envs/rats/lib/python3.6/site-packages/xarray/core/indexing.py:1168: PerformanceWarning: Slicing with an out-of-order index is generating 282 times more chunks\n",
      "  return self.array[key]\n"
     ]
    },
    {
     "name": "stdout",
     "output_type": "stream",
     "text": [
      "done (6.15 seconds).\n"
     ]
    },
    {
     "name": "stderr",
     "output_type": "stream",
     "text": [
      "42it [00:00, 347.18it/s]"
     ]
    },
    {
     "name": "stdout",
     "output_type": "stream",
     "text": [
      "Scale: 1.38772\n",
      "Delta: 0.5\n",
      "Beta: [-0.]\n",
      "Scale: 1.38766\n",
      "Delta: 0.5\n",
      "Beta: [-0.41410821]\n",
      "Scale: 1.38766\n",
      "Delta: 0.5\n",
      "Beta: [-0.41410817]\n",
      "Scale: 1.38766\n",
      "Delta: 0.500001\n",
      "Beta: [-0.41410807]\n",
      "Scale: 1.38766\n",
      "Delta: 0.500001\n",
      "Beta: [-0.41410789]\n",
      "Scale: 1.38766\n",
      "Delta: 0.500002\n",
      "Beta: [-0.41410751]\n",
      "Scale: 1.38765\n",
      "Delta: 0.500005\n",
      "Beta: [-0.41410677]\n",
      "Scale: 1.38765\n",
      "Delta: 0.500009\n",
      "Beta: [-0.41410527]\n",
      "Scale: 1.38763\n",
      "Delta: 0.500019\n",
      "Beta: [-0.41410229]\n",
      "Scale: 1.3876\n",
      "Delta: 0.500038\n",
      "Beta: [-0.41409631]\n",
      "Scale: 1.38754\n",
      "Delta: 0.500076\n",
      "Beta: [-0.41408437]\n",
      "Scale: 1.38741\n",
      "Delta: 0.500153\n",
      "Beta: [-0.41406047]\n",
      "Scale: 1.38716\n",
      "Delta: 0.500305\n",
      "Beta: [-0.41401267]\n",
      "Scale: 1.38666\n",
      "Delta: 0.50061\n",
      "Beta: [-0.41391705]\n",
      "Scale: 1.38565\n",
      "Delta: 0.501221\n",
      "Beta: [-0.4137257]\n",
      "Scale: 1.38365\n",
      "Delta: 0.502441\n",
      "Beta: [-0.41334254]\n",
      "Scale: 1.37968\n",
      "Delta: 0.504883\n",
      "Beta: [-0.41257444]\n",
      "Scale: 1.37182\n",
      "Delta: 0.509765\n",
      "Beta: [-0.41103125]\n",
      "Scale: 1.35649\n",
      "Delta: 0.519522\n",
      "Beta: [-0.40791776]\n",
      "Scale: 1.3273\n",
      "Delta: 0.538985\n",
      "Beta: [-0.40158921]\n",
      "Scale: 1.27454\n",
      "Delta: 0.5775\n",
      "Beta: [-0.38858074]\n",
      "Scale: 1.189\n",
      "Delta: 0.651363\n",
      "Beta: [-0.3615848]\n",
      "Scale: 1.07995\n",
      "Delta: 0.777312\n",
      "Beta: [-0.30679464]\n",
      "Scale: 1.00133\n",
      "Delta: 0.924152\n",
      "Beta: [-0.21227907]\n",
      "Scale: 0.994724\n",
      "Delta: 0.993309\n",
      "Beta: [-0.11897345]\n",
      "Scale: 0.991348\n",
      "Delta: 0.969383\n",
      "Beta: [-0.0391844]\n",
      "Scale: 1.01776\n",
      "Delta: 0.883155\n",
      "Beta: [-0.08742241]\n",
      "Scale: 0.995239\n",
      "Delta: 0.945242\n",
      "Beta: [-0.1422735]\n",
      "Scale: 0.996031\n",
      "Delta: 0.9421\n",
      "Beta: [-0.1065353]\n",
      "Scale: 0.996415\n",
      "Delta: 0.94062\n",
      "Beta: [-0.10850183]\n",
      "Scale: 0.996516\n",
      "Delta: 0.940238\n",
      "Beta: [-0.10940791]\n",
      "Scale: 0.996505\n",
      "Delta: 0.940282\n",
      "Beta: [-0.10963991]\n",
      "Scale: 0.996504\n",
      "Delta: 0.940284\n",
      "Beta: [-0.10961335]\n",
      "Scale: 0.996504\n",
      "Delta: 0.940284\n",
      "Beta: [-0.10961211]\n",
      "Scale: 0.996504\n",
      "Delta: 0.940284\n",
      "Beta: [-0.10961215]\n",
      "Scale: 0.996504\n",
      "Delta: 0.940284\n",
      "Beta: [-0.10961215]\n",
      "Scale: 0.996504\n",
      "Delta: 0.940283\n",
      "Beta: [-0.10961215]\n",
      "Scale: 0.996504\n",
      "Delta: 0.940284\n",
      "Beta: [-0.10961261]\n",
      "Scale: 0.996504\n",
      "Delta: 0.940284\n",
      "Beta: [-0.10961233]\n",
      "Scale: 0.996504\n",
      "Delta: 0.940284\n",
      "Beta: [-0.10961222]\n",
      "Scale: 0.996504\n",
      "Delta: 0.940284\n",
      "Beta: [-0.10961218]\n",
      "Scale: 0.996504\n",
      "Delta: 0.940284\n",
      "Beta: [-0.10961216]\n"
     ]
    },
    {
     "name": "stderr",
     "output_type": "stream",
     "text": [
      "\n",
      "Scanning: 100%|██████████| 30/30 [36:31<00:00, 73.06s/it]\n"
     ]
    },
    {
     "data": {
      "text/html": [
       "<pre><b><span style='color:#0C68C7'>===================== qtl analysis session ends in 2200.26 seconds =====================</span></b></pre>"
      ],
      "text/plain": [
       "===================== qtl analysis session ends in 2200.26 seconds ====================="
      ]
     },
     "metadata": {},
     "output_type": "display_data"
    },
    {
     "name": "stdout",
     "output_type": "stream",
     "text": [
      "Processing: Distance25\n"
     ]
    },
    {
     "data": {
      "text/html": [
       "<pre><b><span style='color:#0C68C7'>============================= qtl analysis session starts ==============================</span></b></pre>"
      ],
      "text/plain": [
       "============================= qtl analysis session starts =============================="
      ]
     },
     "metadata": {},
     "output_type": "display_data"
    },
    {
     "name": "stdout",
     "output_type": "stream",
     "text": [
      "Normalising input... "
     ]
    },
    {
     "name": "stderr",
     "output_type": "stream",
     "text": [
      "/nfs/software/stegle/users/horta/conda-envs/rats/lib/python3.6/site-packages/xarray/core/indexing.py:1168: PerformanceWarning: Slicing with an out-of-order index is generating 284 times more chunks\n",
      "  return self.array[key]\n"
     ]
    },
    {
     "name": "stdout",
     "output_type": "stream",
     "text": [
      "done (13.86 seconds).\n"
     ]
    },
    {
     "name": "stderr",
     "output_type": "stream",
     "text": [
      "9it [00:00, 64.21it/s]"
     ]
    },
    {
     "name": "stdout",
     "output_type": "stream",
     "text": [
      "Scale: 1.34649\n",
      "Delta: 0.5\n",
      "Beta: [-0.]\n",
      "Scale: 1.34621\n",
      "Delta: 0.5\n",
      "Beta: [-0.86950692]\n",
      "Scale: 1.34621\n",
      "Delta: 0.5\n",
      "Beta: [-0.86950683]\n",
      "Scale: 1.34621\n",
      "Delta: 0.500001\n",
      "Beta: [-0.86950666]\n",
      "Scale: 1.34621\n",
      "Delta: 0.500001\n",
      "Beta: [-0.86950631]\n",
      "Scale: 1.34621\n",
      "Delta: 0.500002\n",
      "Beta: [-0.86950561]\n",
      "Scale: 1.3462\n",
      "Delta: 0.500005\n",
      "Beta: [-0.86950422]\n",
      "Scale: 1.3462\n",
      "Delta: 0.500009\n",
      "Beta: [-0.86950143]\n",
      "Scale: 1.34618\n",
      "Delta: 0.500019\n",
      "Beta: [-0.86949585]\n",
      "Scale: 1.34615\n",
      "Delta: 0.500038\n",
      "Beta: [-0.8694847]\n",
      "Scale: 1.34609\n",
      "Delta: 0.500076\n",
      "Beta: [-0.8694624]\n",
      "Scale: 1.34597\n",
      "Delta: 0.500153\n",
      "Beta: [-0.86941778]\n",
      "Scale: 1.34574\n",
      "Delta: 0.500305\n",
      "Beta: [-0.86932855]\n",
      "Scale: 1.34526\n",
      "Delta: 0.50061\n",
      "Beta: [-0.86915004]\n",
      "Scale: 1.34431\n",
      "Delta: 0.501221\n",
      "Beta: [-0.86879286]\n",
      "Scale: 1.34242\n",
      "Delta: 0.502441\n",
      "Beta: [-0.86807788]\n",
      "Scale: 1.33866\n",
      "Delta: 0.504883\n",
      "Beta: [-0.86664541]\n",
      "Scale: 1.33124\n",
      "Delta: 0.509765\n",
      "Beta: [-0.86377055]\n",
      "Scale: 1.31675\n",
      "Delta: 0.519522\n",
      "Beta: [-0.85798216]\n",
      "Scale: 1.28921\n",
      "Delta: 0.538985\n",
      "Beta: [-0.8462582]\n",
      "Scale: 1.23951\n",
      "Delta: 0.5775\n",
      "Beta: [-0.82228239]\n",
      "Scale: 1.1593\n",
      "Delta: 0.651363\n",
      "Beta: [-0.77269952]\n",
      "Scale: 1.0584\n",
      "Delta: 0.777312\n",
      "Beta: [-0.6706724]\n",
      "Scale: 0.989589\n",
      "Delta: 0.924152\n",
      "Beta: [-0.47920501]\n",
      "Scale: 0.991752\n",
      "Delta: 0.993309\n",
      "Beta: [-0.22937033]\n",
      "Scale: 0.984095\n",
      "Delta: 0.969383\n",
      "Beta: [-0.05039255]\n",
      "Scale: 1.00315\n",
      "Delta: 0.883155\n",
      "Beta: [-0.13498681]\n",
      "Scale: 1.00929\n",
      "Delta: 0.868111\n",
      "Beta: [-0.30292727]\n",
      "Scale: 1.00124\n",
      "Delta: 0.887923\n",
      "Beta: [-0.32893721]\n",
      "Scale: 1.00194\n",
      "Delta: 0.886116\n",
      "Beta: [-0.29459758]\n",
      "Scale: 1.00192\n",
      "Delta: 0.886155\n",
      "Beta: [-0.29775986]\n",
      "Scale: 1.00193\n",
      "Delta: 0.886145\n",
      "Beta: [-0.29769129]\n",
      "Scale: 1.00193\n",
      "Delta: 0.886145\n",
      "Beta: [-0.29770982]\n",
      "Scale: 1.00193\n",
      "Delta: 0.886145\n",
      "Beta: [-0.29770993]\n",
      "Scale: 1.00193\n",
      "Delta: 0.886145\n",
      "Beta: [-0.29770992]\n",
      "Scale: 1.00193\n",
      "Delta: 0.886145\n",
      "Beta: [-0.29770992]\n",
      "Scale: 1.00193\n",
      "Delta: 0.886145\n",
      "Beta: [-0.29770988]\n"
     ]
    },
    {
     "name": "stderr",
     "output_type": "stream",
     "text": [
      "37it [00:00, 181.38it/s]\n",
      "Scanning: 100%|██████████| 30/30 [45:29<00:00, 90.99s/it]\n"
     ]
    },
    {
     "data": {
      "text/html": [
       "<pre><b><span style='color:#0C68C7'>===================== qtl analysis session ends in 2747.38 seconds =====================</span></b></pre>"
      ],
      "text/plain": [
       "===================== qtl analysis session ends in 2747.38 seconds ====================="
      ]
     },
     "metadata": {},
     "output_type": "display_data"
    },
    {
     "name": "stdout",
     "output_type": "stream",
     "text": [
      "Processing: Distance25_30\n"
     ]
    },
    {
     "data": {
      "text/html": [
       "<pre><b><span style='color:#0C68C7'>============================= qtl analysis session starts ==============================</span></b></pre>"
      ],
      "text/plain": [
       "============================= qtl analysis session starts =============================="
      ]
     },
     "metadata": {},
     "output_type": "display_data"
    },
    {
     "name": "stdout",
     "output_type": "stream",
     "text": [
      "Normalising input... done (8.91 seconds).\n"
     ]
    },
    {
     "name": "stderr",
     "output_type": "stream",
     "text": [
      "48it [00:00, 338.18it/s]"
     ]
    },
    {
     "name": "stdout",
     "output_type": "stream",
     "text": [
      "Scale: 1.40729\n",
      "Delta: 0.5\n",
      "Beta: [-0.]\n",
      "Scale: 1.40712\n",
      "Delta: 0.5\n",
      "Beta: [-0.66470104]\n",
      "Scale: 1.40712\n",
      "Delta: 0.5\n",
      "Beta: [-0.66470096]\n",
      "Scale: 1.40712\n",
      "Delta: 0.500001\n",
      "Beta: [-0.6647008]\n",
      "Scale: 1.40712\n",
      "Delta: 0.500001\n",
      "Beta: [-0.66470049]\n",
      "Scale: 1.40712\n",
      "Delta: 0.500002\n",
      "Beta: [-0.66469986]\n",
      "Scale: 1.40712\n",
      "Delta: 0.500005\n",
      "Beta: [-0.66469859]\n",
      "Scale: 1.40711\n",
      "Delta: 0.500009\n",
      "Beta: [-0.66469607]\n",
      "Scale: 1.40709\n",
      "Delta: 0.500019\n",
      "Beta: [-0.66469101]\n",
      "Scale: 1.40706\n",
      "Delta: 0.500038\n",
      "Beta: [-0.66468091]\n",
      "Scale: 1.407\n",
      "Delta: 0.500076\n",
      "Beta: [-0.66466069]\n",
      "Scale: 1.40687\n",
      "Delta: 0.500153\n",
      "Beta: [-0.66462026]\n",
      "Scale: 1.40661\n",
      "Delta: 0.500305\n",
      "Beta: [-0.66453939]\n",
      "Scale: 1.4061\n",
      "Delta: 0.50061\n",
      "Beta: [-0.66437761]\n",
      "Scale: 1.40507\n",
      "Delta: 0.501221\n",
      "Beta: [-0.66405391]\n",
      "Scale: 1.40303\n",
      "Delta: 0.502441\n",
      "Beta: [-0.66340591]\n",
      "Scale: 1.39897\n",
      "Delta: 0.504883\n",
      "Beta: [-0.66210754]\n",
      "Scale: 1.39095\n",
      "Delta: 0.509765\n",
      "Beta: [-0.65950147]\n",
      "Scale: 1.37529\n",
      "Delta: 0.519522\n",
      "Beta: [-0.65425302]\n",
      "Scale: 1.34548\n",
      "Delta: 0.538985\n",
      "Beta: [-0.64361881]\n",
      "Scale: 1.2916\n",
      "Delta: 0.5775\n",
      "Beta: [-0.62186465]\n",
      "Scale: 1.20422\n",
      "Delta: 0.651363\n",
      "Beta: [-0.57691377]\n",
      "Scale: 1.09249\n",
      "Delta: 0.777312\n",
      "Beta: [-0.4850368]\n",
      "Scale: 1.00972\n",
      "Delta: 0.924152\n",
      "Beta: [-0.31802419]\n",
      "Scale: 0.996702\n",
      "Delta: 0.993309\n",
      "Beta: [-0.12879146]\n",
      "Scale: 0.999958\n",
      "Delta: 0.999955\n",
      "Beta: [-0.03091348]\n",
      "Scale: 0.999291\n",
      "Delta: 0.999003\n",
      "Beta: [-0.00030001]\n",
      "Scale: 0.995583\n",
      "Delta: 0.982797\n",
      "Beta: [-0.00619287]\n",
      "Scale: 0.996795\n",
      "Delta: 0.969383\n",
      "Beta: [-0.05585771]\n",
      "Scale: 0.997703\n",
      "Delta: 0.964321\n",
      "Beta: [-0.07580686]\n",
      "Scale: 0.996313\n",
      "Delta: 0.972595\n",
      "Beta: [-0.08215975]\n",
      "Scale: 0.996439\n",
      "Delta: 0.971702\n",
      "Beta: [-0.07155387]\n",
      "Scale: 0.996429\n",
      "Delta: 0.971771\n",
      "Beta: [-0.07275721]\n",
      "Scale: 0.996431\n",
      "Delta: 0.971757\n",
      "Beta: [-0.07266601]\n",
      "Scale: 0.996431\n",
      "Delta: 0.971757\n",
      "Beta: [-0.0726843]\n",
      "Scale: 0.996431\n",
      "Delta: 0.971757\n",
      "Beta: [-0.07268465]\n",
      "Scale: 0.996431\n",
      "Delta: 0.971757\n",
      "Beta: [-0.07268466]\n",
      "Scale: 0.996434\n",
      "Delta: 0.971736\n",
      "Beta: [-0.07268466]\n",
      "Scale: 0.996432\n",
      "Delta: 0.971749\n",
      "Beta: [-0.07271236]\n",
      "Scale: 0.996431\n",
      "Delta: 0.971754\n",
      "Beta: [-0.07269524]\n",
      "Scale: 0.996431\n",
      "Delta: 0.971755\n",
      "Beta: [-0.0726887]\n",
      "Scale: 0.996431\n",
      "Delta: 0.971756\n",
      "Beta: [-0.07268621]\n",
      "Scale: 0.996431\n",
      "Delta: 0.971756\n",
      "Beta: [-0.07268525]\n",
      "Scale: 0.996431\n",
      "Delta: 0.971757\n",
      "Beta: [-0.07268489]\n",
      "Scale: 0.996431\n",
      "Delta: 0.971757\n",
      "Beta: [-0.07268475]\n",
      "Scale: 0.996431\n",
      "Delta: 0.971757\n",
      "Beta: [-0.0726847]\n",
      "Scale: 0.996431\n",
      "Delta: 0.971757\n",
      "Beta: [-0.07268468]\n",
      "Scale: 0.996431\n",
      "Delta: 0.971757\n",
      "Beta: [-0.07268467]\n"
     ]
    },
    {
     "name": "stderr",
     "output_type": "stream",
     "text": [
      "\n",
      "Scanning: 100%|██████████| 30/30 [34:08<00:00, 68.27s/it]\n"
     ]
    },
    {
     "data": {
      "text/html": [
       "<pre><b><span style='color:#0C68C7'>===================== qtl analysis session ends in 2062.14 seconds =====================</span></b></pre>"
      ],
      "text/plain": [
       "===================== qtl analysis session ends in 2062.14 seconds ====================="
      ]
     },
     "metadata": {},
     "output_type": "display_data"
    },
    {
     "name": "stdout",
     "output_type": "stream",
     "text": [
      "Processing: Distance5\n"
     ]
    },
    {
     "data": {
      "text/html": [
       "<pre><b><span style='color:#0C68C7'>============================= qtl analysis session starts ==============================</span></b></pre>"
      ],
      "text/plain": [
       "============================= qtl analysis session starts =============================="
      ]
     },
     "metadata": {},
     "output_type": "display_data"
    },
    {
     "name": "stdout",
     "output_type": "stream",
     "text": [
      "Normalising input... "
     ]
    },
    {
     "name": "stderr",
     "output_type": "stream",
     "text": [
      "/nfs/software/stegle/users/horta/conda-envs/rats/lib/python3.6/site-packages/xarray/core/indexing.py:1168: PerformanceWarning: Slicing with an out-of-order index is generating 281 times more chunks\n",
      "  return self.array[key]\n"
     ]
    },
    {
     "name": "stdout",
     "output_type": "stream",
     "text": [
      "done (6.95 seconds).\n"
     ]
    },
    {
     "name": "stderr",
     "output_type": "stream",
     "text": [
      "38it [00:00, 488.25it/s]"
     ]
    },
    {
     "name": "stdout",
     "output_type": "stream",
     "text": [
      "Scale: 1.27776\n",
      "Delta: 0.5\n",
      "Beta: [-0.]\n",
      "Scale: 1.27723\n",
      "Delta: 0.5\n",
      "Beta: [-1.19937666]\n",
      "Scale: 1.27723\n",
      "Delta: 0.5\n",
      "Beta: [-1.19937649]\n",
      "Scale: 1.27723\n",
      "Delta: 0.500001\n",
      "Beta: [-1.19937616]\n",
      "Scale: 1.27723\n",
      "Delta: 0.500001\n",
      "Beta: [-1.19937548]\n",
      "Scale: 1.27723\n",
      "Delta: 0.500002\n",
      "Beta: [-1.19937413]\n",
      "Scale: 1.27722\n",
      "Delta: 0.500005\n",
      "Beta: [-1.19937143]\n",
      "Scale: 1.27721\n",
      "Delta: 0.500009\n",
      "Beta: [-1.19936603]\n",
      "Scale: 1.2772\n",
      "Delta: 0.500019\n",
      "Beta: [-1.19935524]\n",
      "Scale: 1.27717\n",
      "Delta: 0.500038\n",
      "Beta: [-1.19933364]\n",
      "Scale: 1.27712\n",
      "Delta: 0.500076\n",
      "Beta: [-1.19929046]\n",
      "Scale: 1.27701\n",
      "Delta: 0.500153\n",
      "Beta: [-1.19920408]\n",
      "Scale: 1.27679\n",
      "Delta: 0.500305\n",
      "Beta: [-1.19903134]\n",
      "Scale: 1.27635\n",
      "Delta: 0.50061\n",
      "Beta: [-1.19868586]\n",
      "Scale: 1.27547\n",
      "Delta: 0.501221\n",
      "Beta: [-1.19799494]\n",
      "Scale: 1.27373\n",
      "Delta: 0.502441\n",
      "Beta: [-1.19661325]\n",
      "Scale: 1.27025\n",
      "Delta: 0.504883\n",
      "Beta: [-1.1938505]\n",
      "Scale: 1.26339\n",
      "Delta: 0.509765\n",
      "Beta: [-1.18832761]\n",
      "Scale: 1.25002\n",
      "Delta: 0.519522\n",
      "Beta: [-1.17729307]\n",
      "Scale: 1.2246\n",
      "Delta: 0.538985\n",
      "Beta: [-1.15527515]\n",
      "Scale: 1.17879\n",
      "Delta: 0.5775\n",
      "Beta: [-1.11149295]\n",
      "Scale: 1.10517\n",
      "Delta: 0.651363\n",
      "Beta: [-1.02532209]\n",
      "Scale: 1.01393\n",
      "Delta: 0.777312\n",
      "Beta: [-0.86131443]\n",
      "Scale: 0.958728\n",
      "Delta: 0.924152\n",
      "Beta: [-0.58289325]\n",
      "Scale: 0.979184\n",
      "Delta: 0.849099\n",
      "Beta: [-0.2520791]\n",
      "Scale: 0.96732\n",
      "Delta: 0.883155\n",
      "Beta: [-0.42317231]\n",
      "Scale: 0.991183\n",
      "Delta: 0.821312\n",
      "Beta: [-0.34649433]\n",
      "Scale: 0.991438\n",
      "Delta: 0.820639\n",
      "Beta: [-0.48520728]\n",
      "Scale: 0.992013\n",
      "Delta: 0.81942\n",
      "Beta: [-0.48670427]\n",
      "Scale: 0.99197\n",
      "Delta: 0.819508\n",
      "Beta: [-0.48941915]\n",
      "Scale: 0.99197\n",
      "Delta: 0.81951\n",
      "Beta: [-0.48922154]\n",
      "Scale: 0.99197\n",
      "Delta: 0.81951\n",
      "Beta: [-0.4892177]\n",
      "Scale: 0.99197\n",
      "Delta: 0.81951\n",
      "Beta: [-0.48921791]\n",
      "Scale: 0.99197\n",
      "Delta: 0.81951\n",
      "Beta: [-0.4892179]\n",
      "Scale: 0.99197\n",
      "Delta: 0.81951\n",
      "Beta: [-0.48921789]\n",
      "Scale: 0.99197\n",
      "Delta: 0.81951\n",
      "Beta: [-0.48921781]\n",
      "Scale: 0.99197\n",
      "Delta: 0.81951\n",
      "Beta: [-0.48921786]\n",
      "Scale: 0.99197\n",
      "Delta: 0.81951\n",
      "Beta: [-0.48921784]\n"
     ]
    },
    {
     "name": "stderr",
     "output_type": "stream",
     "text": [
      "\n",
      "Scanning: 100%|██████████| 30/30 [33:33<00:00, 67.13s/it]\n"
     ]
    },
    {
     "data": {
      "text/html": [
       "<pre><b><span style='color:#0C68C7'>===================== qtl analysis session ends in 2024.60 seconds =====================</span></b></pre>"
      ],
      "text/plain": [
       "===================== qtl analysis session ends in 2024.60 seconds ====================="
      ]
     },
     "metadata": {},
     "output_type": "display_data"
    },
    {
     "name": "stdout",
     "output_type": "stream",
     "text": [
      "Processing: Distance5_10\n",
      "Processing: Rearing0_30\n",
      "Processing: Rearing10_15\n",
      "Processing: Rearing15_20\n",
      "Processing: Rearing20_25\n",
      "Processing: Rearing25\n",
      "Processing: Rearing5\n",
      "Processing: Rearing5_10\n",
      "Processing: ALP\n"
     ]
    },
    {
     "data": {
      "text/html": [
       "<pre><b><span style='color:#0C68C7'>============================= qtl analysis session starts ==============================</span></b></pre>"
      ],
      "text/plain": [
       "============================= qtl analysis session starts =============================="
      ]
     },
     "metadata": {},
     "output_type": "display_data"
    },
    {
     "name": "stdout",
     "output_type": "stream",
     "text": [
      "Normalising input... "
     ]
    },
    {
     "name": "stderr",
     "output_type": "stream",
     "text": [
      "/nfs/software/stegle/users/horta/conda-envs/rats/lib/python3.6/site-packages/xarray/core/indexing.py:1168: PerformanceWarning: Slicing with an out-of-order index is generating 280 times more chunks\n",
      "  return self.array[key]\n"
     ]
    },
    {
     "name": "stdout",
     "output_type": "stream",
     "text": [
      "done (8.08 seconds).\n"
     ]
    },
    {
     "name": "stderr",
     "output_type": "stream",
     "text": [
      "33it [00:00, 367.96it/s]"
     ]
    },
    {
     "name": "stdout",
     "output_type": "stream",
     "text": [
      "Scale: 1.1105\n",
      "Delta: 0.5\n",
      "Beta: [-0.]\n",
      "Scale: 1.1105\n",
      "Delta: 0.5\n",
      "Beta: [-0.01661783]\n",
      "Scale: 1.1105\n",
      "Delta: 0.5\n",
      "Beta: [-0.01661782]\n",
      "Scale: 1.1105\n",
      "Delta: 0.500001\n",
      "Beta: [-0.0166178]\n",
      "Scale: 1.1105\n",
      "Delta: 0.500001\n",
      "Beta: [-0.01661777]\n",
      "Scale: 1.1105\n",
      "Delta: 0.500002\n",
      "Beta: [-0.01661772]\n",
      "Scale: 1.11049\n",
      "Delta: 0.500005\n",
      "Beta: [-0.0166176]\n",
      "Scale: 1.11049\n",
      "Delta: 0.500009\n",
      "Beta: [-0.01661737]\n",
      "Scale: 1.11048\n",
      "Delta: 0.500019\n",
      "Beta: [-0.01661691]\n",
      "Scale: 1.11046\n",
      "Delta: 0.500038\n",
      "Beta: [-0.01661598]\n",
      "Scale: 1.11042\n",
      "Delta: 0.500076\n",
      "Beta: [-0.01661413]\n",
      "Scale: 1.11033\n",
      "Delta: 0.500153\n",
      "Beta: [-0.01661043]\n",
      "Scale: 1.11017\n",
      "Delta: 0.500305\n",
      "Beta: [-0.01660302]\n",
      "Scale: 1.10984\n",
      "Delta: 0.50061\n",
      "Beta: [-0.01658818]\n",
      "Scale: 1.10918\n",
      "Delta: 0.501221\n",
      "Beta: [-0.01655846]\n",
      "Scale: 1.10787\n",
      "Delta: 0.502441\n",
      "Beta: [-0.01649876]\n",
      "Scale: 1.10526\n",
      "Delta: 0.504883\n",
      "Beta: [-0.0163784]\n",
      "Scale: 1.1001\n",
      "Delta: 0.509765\n",
      "Beta: [-0.01613385]\n",
      "Scale: 1.09007\n",
      "Delta: 0.519522\n",
      "Beta: [-0.0156294]\n",
      "Scale: 1.07105\n",
      "Delta: 0.538985\n",
      "Beta: [-0.01455944]\n",
      "Scale: 1.03701\n",
      "Delta: 0.5775\n",
      "Beta: [-0.01217857]\n",
      "Scale: 0.983408\n",
      "Delta: 0.651363\n",
      "Beta: [-0.00649246]\n",
      "Scale: 1.01439\n",
      "Delta: 0.606325\n",
      "Beta: [0.00809109]\n",
      "Scale: 1.00176\n",
      "Delta: 0.623789\n",
      "Beta: [-0.00138195]\n",
      "Scale: 1.02311\n",
      "Delta: 0.594868\n",
      "Beta: [0.00207443]\n",
      "Scale: 1.02315\n",
      "Delta: 0.594807\n",
      "Beta: [-0.0035014]\n",
      "Scale: 1.02321\n",
      "Delta: 0.594735\n",
      "Beta: [-0.0035123]\n",
      "Scale: 1.02321\n",
      "Delta: 0.594736\n",
      "Beta: [-0.00352533]\n",
      "Scale: 1.02321\n",
      "Delta: 0.594736\n",
      "Beta: [-0.00352518]\n",
      "Scale: 1.02321\n",
      "Delta: 0.594735\n",
      "Beta: [-0.00352518]\n",
      "Scale: 1.02321\n",
      "Delta: 0.594735\n",
      "Beta: [-0.00352519]\n",
      "Scale: 1.02321\n",
      "Delta: 0.594736\n",
      "Beta: [-0.00352518]\n",
      "Scale: 1.02321\n",
      "Delta: 0.594736\n",
      "Beta: [-0.00352518]\n"
     ]
    },
    {
     "name": "stderr",
     "output_type": "stream",
     "text": [
      "\n",
      "Scanning: 100%|██████████| 30/30 [39:19<00:00, 78.66s/it]\n"
     ]
    },
    {
     "data": {
      "text/html": [
       "<pre><b><span style='color:#0C68C7'>===================== qtl analysis session ends in 2377.21 seconds =====================</span></b></pre>"
      ],
      "text/plain": [
       "===================== qtl analysis session ends in 2377.21 seconds ====================="
      ]
     },
     "metadata": {},
     "output_type": "display_data"
    },
    {
     "name": "stdout",
     "output_type": "stream",
     "text": [
      "Processing: Chloride\n",
      "Processing: Sodium\n",
      "Processing: BW_week9\n",
      "Processing: Has1kidney\n",
      "Processing: PLT\n",
      "Processing: AA_IL_nb\n",
      "Processing: AA_IL_score\n",
      "Processing: AA_nb\n",
      "Processing: AA_score\n",
      "Processing: IL_nb\n",
      "Processing: IL_score\n",
      "Processing: Avoidances1_10\n",
      "Processing: Avoidances1_20\n",
      "Processing: Avoidances1_40\n"
     ]
    },
    {
     "data": {
      "text/html": [
       "<pre><b><span style='color:#0C68C7'>============================= qtl analysis session starts ==============================</span></b></pre>"
      ],
      "text/plain": [
       "============================= qtl analysis session starts =============================="
      ]
     },
     "metadata": {},
     "output_type": "display_data"
    },
    {
     "name": "stdout",
     "output_type": "stream",
     "text": [
      "Normalising input... done (10.75 seconds).\n"
     ]
    },
    {
     "name": "stderr",
     "output_type": "stream",
     "text": [
      "0it [00:00, ?it/s]"
     ]
    },
    {
     "name": "stdout",
     "output_type": "stream",
     "text": [
      "Scale: 1.22413\n",
      "Delta: 0.5\n",
      "Beta: [-0.]\n",
      "Scale: 1.2241\n",
      "Delta: 0.5\n",
      "Beta: [-0.30915243]\n",
      "Scale: 1.2241\n",
      "Delta: 0.5\n",
      "Beta: [-0.30915232]\n",
      "Scale: 1.2241\n",
      "Delta: 0.500001\n",
      "Beta: [-0.30915209]\n",
      "Scale: 1.2241\n",
      "Delta: 0.500001\n",
      "Beta: [-0.30915163]\n",
      "Scale: 1.2241\n",
      "Delta: 0.500002\n",
      "Beta: [-0.30915072]\n",
      "Scale: 1.22409\n",
      "Delta: 0.500005\n",
      "Beta: [-0.30914889]\n",
      "Scale: 1.22409\n",
      "Delta: 0.500009\n",
      "Beta: [-0.30914523]\n",
      "Scale: 1.22407\n",
      "Delta: 0.500019\n",
      "Beta: [-0.30913792]\n",
      "Scale: 1.22404\n",
      "Delta: 0.500038\n",
      "Beta: [-0.30912329]\n"
     ]
    },
    {
     "name": "stderr",
     "output_type": "stream",
     "text": [
      "33it [00:00, 417.02it/s]"
     ]
    },
    {
     "name": "stdout",
     "output_type": "stream",
     "text": [
      "Scale: 1.22399\n",
      "Delta: 0.500076\n",
      "Beta: [-0.30909403]\n",
      "Scale: 1.22388\n",
      "Delta: 0.500153\n",
      "Beta: [-0.30903552]\n",
      "Scale: 1.22367\n",
      "Delta: 0.500305\n",
      "Beta: [-0.30891853]\n",
      "Scale: 1.22324\n",
      "Delta: 0.50061\n",
      "Beta: [-0.30868462]\n",
      "Scale: 1.22238\n",
      "Delta: 0.501221\n",
      "Beta: [-0.30821716]\n",
      "Scale: 1.22067\n",
      "Delta: 0.502441\n",
      "Beta: [-0.30728366]\n",
      "Scale: 1.21726\n",
      "Delta: 0.504883\n",
      "Beta: [-0.30542232]\n",
      "Scale: 1.21053\n",
      "Delta: 0.509765\n",
      "Beta: [-0.30172214]\n",
      "Scale: 1.19741\n",
      "Delta: 0.519522\n",
      "Beta: [-0.29441127]\n",
      "Scale: 1.17245\n",
      "Delta: 0.538985\n",
      "Beta: [-0.28014247]\n",
      "Scale: 1.12741\n",
      "Delta: 0.5775\n",
      "Beta: [-0.25297726]\n",
      "Scale: 1.05477\n",
      "Delta: 0.651363\n",
      "Beta: [-0.20382433]\n",
      "Scale: 0.964133\n",
      "Delta: 0.777312\n",
      "Beta: [-0.12383683]\n",
      "Scale: 0.910208\n",
      "Delta: 0.924152\n",
      "Beta: [-0.02047865]\n",
      "Scale: 0.929212\n",
      "Delta: 0.849099\n",
      "Beta: [0.05604233]\n",
      "Scale: 0.917638\n",
      "Delta: 0.883155\n",
      "Beta: [0.02312381]\n",
      "Scale: 0.931343\n",
      "Delta: 0.84379\n",
      "Beta: [0.03992823]\n",
      "Scale: 0.932111\n",
      "Delta: 0.841922\n",
      "Beta: [0.02026897]\n",
      "Scale: 0.932011\n",
      "Delta: 0.842165\n",
      "Beta: [0.0192498]\n",
      "Scale: 0.932008\n",
      "Delta: 0.842171\n",
      "Beta: [0.01938293]\n",
      "Scale: 0.932009\n",
      "Delta: 0.842171\n",
      "Beta: [0.01938613]\n",
      "Scale: 0.932009\n",
      "Delta: 0.842171\n",
      "Beta: [0.019386]\n",
      "Scale: 0.932009\n",
      "Delta: 0.842171\n",
      "Beta: [0.019386]\n"
     ]
    },
    {
     "name": "stderr",
     "output_type": "stream",
     "text": [
      "\n",
      "Scanning: 100%|██████████| 30/30 [43:45<00:00, 87.51s/it]\n"
     ]
    },
    {
     "data": {
      "text/html": [
       "<pre><b><span style='color:#0C68C7'>===================== qtl analysis session ends in 2637.86 seconds =====================</span></b></pre>"
      ],
      "text/plain": [
       "===================== qtl analysis session ends in 2637.86 seconds ====================="
      ]
     },
     "metadata": {},
     "output_type": "display_data"
    }
   ],
   "source": [
    "for name in data0['measures'].columns.values:\n",
    "    print(\"Processing: {}\".format(name))\n",
    "    dst_file = join(dst_folder, \"scan_measures_normal_\" + name + \"_mean_standardize.json\")\n",
    "    if os.path.exists(dst_file) or os.path.exists(dst_file + \".failed\"):\n",
    "        continue\n",
    "    r = analysis_QTL(G, data0['measures'], data0['kinship'], name, 'normal', limix.qc.mean_standardize)\n",
    "    if r is None:\n",
    "        open(dst_file + \".failed\", \"w\").write(\"\")\n",
    "    else:\n",
    "        json.dump(r, open(dst_file, \"w\"))"
   ]
  },
  {
   "cell_type": "code",
   "execution_count": null,
   "metadata": {},
   "outputs": [],
   "source": [
    "# for name in data0['measures'].columns.values:\n",
    "#     print(\"Processing: {}\".format(name))\n",
    "#     dst_file = join(dst_folder, \"scan_measures_normal_\" + name + \"_quantile_gaussianize.json\")\n",
    "#     if os.path.exists(dst_file) or os.path.exists(dst_file + \".failed\"):\n",
    "#         continue\n",
    "#     r = analysis_QTL(G, data0['measures'], data0['kinship'], name, 'normal', limix.qc.quantile_gaussianize)\n",
    "#     if r is None:\n",
    "#         open(dst_file + \".failed\", \"w\").write(\"\")\n",
    "#     else:\n",
    "#         json.dump(r, open(dst_file, \"w\"))"
   ]
  },
  {
   "cell_type": "code",
   "execution_count": null,
   "metadata": {},
   "outputs": [],
   "source": [
    "f.close()"
   ]
  },
  {
   "cell_type": "code",
   "execution_count": null,
   "metadata": {},
   "outputs": [],
   "source": []
  },
  {
   "cell_type": "code",
   "execution_count": null,
   "metadata": {},
   "outputs": [],
   "source": []
  },
  {
   "cell_type": "code",
   "execution_count": null,
   "metadata": {},
   "outputs": [],
   "source": []
  },
  {
   "cell_type": "code",
   "execution_count": null,
   "metadata": {},
   "outputs": [],
   "source": []
  },
  {
   "cell_type": "code",
   "execution_count": null,
   "metadata": {},
   "outputs": [],
   "source": []
  },
  {
   "cell_type": "code",
   "execution_count": null,
   "metadata": {},
   "outputs": [],
   "source": []
  },
  {
   "cell_type": "code",
   "execution_count": null,
   "metadata": {},
   "outputs": [],
   "source": []
  },
  {
   "cell_type": "code",
   "execution_count": null,
   "metadata": {},
   "outputs": [],
   "source": []
  },
  {
   "cell_type": "code",
   "execution_count": null,
   "metadata": {},
   "outputs": [],
   "source": []
  },
  {
   "cell_type": "code",
   "execution_count": null,
   "metadata": {},
   "outputs": [],
   "source": []
  },
  {
   "cell_type": "code",
   "execution_count": null,
   "metadata": {},
   "outputs": [],
   "source": []
  },
  {
   "cell_type": "code",
   "execution_count": null,
   "metadata": {},
   "outputs": [],
   "source": []
  },
  {
   "cell_type": "code",
   "execution_count": null,
   "metadata": {},
   "outputs": [],
   "source": []
  },
  {
   "cell_type": "code",
   "execution_count": null,
   "metadata": {},
   "outputs": [],
   "source": []
  },
  {
   "cell_type": "code",
   "execution_count": null,
   "metadata": {},
   "outputs": [],
   "source": []
  },
  {
   "cell_type": "code",
   "execution_count": null,
   "metadata": {},
   "outputs": [],
   "source": []
  },
  {
   "cell_type": "code",
   "execution_count": null,
   "metadata": {},
   "outputs": [],
   "source": []
  },
  {
   "cell_type": "code",
   "execution_count": null,
   "metadata": {},
   "outputs": [],
   "source": []
  },
  {
   "cell_type": "code",
   "execution_count": null,
   "metadata": {},
   "outputs": [],
   "source": []
  },
  {
   "cell_type": "code",
   "execution_count": null,
   "metadata": {},
   "outputs": [],
   "source": []
  },
  {
   "cell_type": "code",
   "execution_count": null,
   "metadata": {},
   "outputs": [],
   "source": []
  },
  {
   "cell_type": "code",
   "execution_count": null,
   "metadata": {},
   "outputs": [],
   "source": []
  },
  {
   "cell_type": "code",
   "execution_count": null,
   "metadata": {},
   "outputs": [],
   "source": []
  },
  {
   "cell_type": "code",
   "execution_count": null,
   "metadata": {},
   "outputs": [],
   "source": []
  },
  {
   "cell_type": "code",
   "execution_count": null,
   "metadata": {},
   "outputs": [],
   "source": []
  },
  {
   "cell_type": "code",
   "execution_count": null,
   "metadata": {},
   "outputs": [],
   "source": []
  },
  {
   "cell_type": "code",
   "execution_count": null,
   "metadata": {},
   "outputs": [],
   "source": []
  },
  {
   "cell_type": "code",
   "execution_count": null,
   "metadata": {},
   "outputs": [],
   "source": []
  },
  {
   "cell_type": "code",
   "execution_count": null,
   "metadata": {},
   "outputs": [],
   "source": []
  },
  {
   "cell_type": "code",
   "execution_count": null,
   "metadata": {},
   "outputs": [],
   "source": []
  },
  {
   "cell_type": "code",
   "execution_count": null,
   "metadata": {},
   "outputs": [],
   "source": []
  },
  {
   "cell_type": "code",
   "execution_count": null,
   "metadata": {},
   "outputs": [],
   "source": []
  },
  {
   "cell_type": "code",
   "execution_count": null,
   "metadata": {},
   "outputs": [],
   "source": []
  },
  {
   "cell_type": "code",
   "execution_count": null,
   "metadata": {},
   "outputs": [],
   "source": []
  },
  {
   "cell_type": "code",
   "execution_count": null,
   "metadata": {},
   "outputs": [],
   "source": []
  },
  {
   "cell_type": "code",
   "execution_count": null,
   "metadata": {},
   "outputs": [],
   "source": []
  },
  {
   "cell_type": "code",
   "execution_count": null,
   "metadata": {},
   "outputs": [],
   "source": []
  },
  {
   "cell_type": "code",
   "execution_count": null,
   "metadata": {},
   "outputs": [],
   "source": []
  },
  {
   "cell_type": "code",
   "execution_count": null,
   "metadata": {},
   "outputs": [],
   "source": []
  },
  {
   "cell_type": "code",
   "execution_count": null,
   "metadata": {},
   "outputs": [],
   "source": []
  },
  {
   "cell_type": "code",
   "execution_count": null,
   "metadata": {},
   "outputs": [],
   "source": []
  },
  {
   "cell_type": "code",
   "execution_count": null,
   "metadata": {},
   "outputs": [],
   "source": []
  },
  {
   "cell_type": "code",
   "execution_count": null,
   "metadata": {},
   "outputs": [],
   "source": []
  },
  {
   "cell_type": "code",
   "execution_count": null,
   "metadata": {},
   "outputs": [],
   "source": []
  },
  {
   "cell_type": "code",
   "execution_count": null,
   "metadata": {},
   "outputs": [],
   "source": []
  },
  {
   "cell_type": "code",
   "execution_count": null,
   "metadata": {},
   "outputs": [],
   "source": []
  },
  {
   "cell_type": "code",
   "execution_count": null,
   "metadata": {},
   "outputs": [],
   "source": []
  },
  {
   "cell_type": "code",
   "execution_count": null,
   "metadata": {},
   "outputs": [],
   "source": []
  },
  {
   "cell_type": "code",
   "execution_count": null,
   "metadata": {},
   "outputs": [],
   "source": []
  },
  {
   "cell_type": "code",
   "execution_count": null,
   "metadata": {},
   "outputs": [],
   "source": []
  },
  {
   "cell_type": "code",
   "execution_count": null,
   "metadata": {},
   "outputs": [],
   "source": []
  },
  {
   "cell_type": "code",
   "execution_count": null,
   "metadata": {},
   "outputs": [],
   "source": []
  },
  {
   "cell_type": "code",
   "execution_count": null,
   "metadata": {},
   "outputs": [],
   "source": []
  },
  {
   "cell_type": "code",
   "execution_count": null,
   "metadata": {},
   "outputs": [],
   "source": []
  },
  {
   "cell_type": "code",
   "execution_count": null,
   "metadata": {},
   "outputs": [],
   "source": []
  },
  {
   "cell_type": "code",
   "execution_count": null,
   "metadata": {},
   "outputs": [],
   "source": []
  },
  {
   "cell_type": "code",
   "execution_count": null,
   "metadata": {},
   "outputs": [],
   "source": []
  },
  {
   "cell_type": "code",
   "execution_count": null,
   "metadata": {},
   "outputs": [],
   "source": []
  },
  {
   "cell_type": "code",
   "execution_count": null,
   "metadata": {},
   "outputs": [],
   "source": []
  },
  {
   "cell_type": "code",
   "execution_count": null,
   "metadata": {},
   "outputs": [],
   "source": []
  },
  {
   "cell_type": "code",
   "execution_count": null,
   "metadata": {},
   "outputs": [],
   "source": []
  },
  {
   "cell_type": "code",
   "execution_count": null,
   "metadata": {},
   "outputs": [],
   "source": []
  },
  {
   "cell_type": "code",
   "execution_count": null,
   "metadata": {},
   "outputs": [],
   "source": []
  },
  {
   "cell_type": "code",
   "execution_count": null,
   "metadata": {},
   "outputs": [],
   "source": []
  },
  {
   "cell_type": "code",
   "execution_count": null,
   "metadata": {},
   "outputs": [],
   "source": []
  },
  {
   "cell_type": "code",
   "execution_count": null,
   "metadata": {},
   "outputs": [],
   "source": []
  },
  {
   "cell_type": "code",
   "execution_count": null,
   "metadata": {},
   "outputs": [],
   "source": []
  }
 ],
 "metadata": {
  "kernelspec": {
   "display_name": "Python 3",
   "language": "python",
   "name": "python3"
  },
  "language_info": {
   "codemirror_mode": {
    "name": "ipython",
    "version": 3
   },
   "file_extension": ".py",
   "mimetype": "text/x-python",
   "name": "python",
   "nbconvert_exporter": "python",
   "pygments_lexer": "ipython3",
   "version": "3.6.5"
  }
 },
 "nbformat": 4,
 "nbformat_minor": 2
}
