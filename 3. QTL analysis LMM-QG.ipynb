{
 "cells": [
  {
   "cell_type": "code",
   "execution_count": 1,
   "metadata": {},
   "outputs": [
    {
     "name": "stderr",
     "output_type": "stream",
     "text": [
      "/nfs/software/stegle/users/horta/conda-envs/rats/lib/python3.6/importlib/_bootstrap.py:219: RuntimeWarning: numpy.dtype size changed, may indicate binary incompatibility. Expected 96, got 88\n",
      "  return f(*args, **kwds)\n"
     ]
    }
   ],
   "source": [
    "from tqdm import tqdm\n",
    "import pdb\n",
    "import limix\n",
    "import pickle as pkl\n",
    "import numpy as np\n",
    "import seaborn as sns\n",
    "from matplotlib import pyplot as plt\n",
    "from numpy import asarray\n",
    "import xarray as xr\n",
    "from copy import deepcopy\n",
    "import os\n",
    "from os.path import join\n",
    "import simplejson as json\n",
    "import hashlib\n",
    "import pandas as pd\n",
    "import pdb\n",
    "from glob import glob\n",
    "import h5py\n",
    "import re\n",
    "from plot import plot_poisson_ordered, plot_distplots, plot_distplot\n",
    "from util import get_amelie_selection\n",
    "import h5py\n",
    "import dask\n",
    "import dask.dataframe\n",
    "import dask.array\n",
    "from urllib.request import urlopen\n",
    "try:\n",
    "    import ipfsapi\n",
    "    has_ipfs = True\n",
    "except ModuleNotFoundError:\n",
    "    has_ipfs = False\n",
    "\n",
    "\n",
    "if has_ipfs:\n",
    "    try:\n",
    "        ipfs = ipfsapi.connect('127.0.0.1', 5001)\n",
    "    except Exception:\n",
    "        has_ipfs = False\n",
    "\n",
    "only_hash = True"
   ]
  },
  {
   "cell_type": "markdown",
   "metadata": {},
   "source": [
    "# Load data (Amelie's and Hannah's)"
   ]
  },
  {
   "cell_type": "code",
   "execution_count": 2,
   "metadata": {},
   "outputs": [],
   "source": [
    "if os.path.exists(\"data/traits-kinship-hannah-amelie.pkl\"):\n",
    "    data = pkl.load(open(\"data/traits-kinship-hannah-amelie.pkl\", \"rb\"))\n",
    "else:\n",
    "    url = \"http://ipfs.io/ipfs/QmXtFuoA3JTkhhpUpqh4dyu3FJLUG7DWAmXwUk1N2TMbAh\"\n",
    "    data = pkl.load(urlopen(url))\n",
    "    \n",
    "dst_folder = \"3\"\n",
    "if not os.path.exists(dst_folder):\n",
    "    os.mkdir(dst_folder)\n",
    "if not os.path.exists(join(dst_folder, 'phenotype')):\n",
    "    os.mkdir(join(dst_folder, 'phenotype'))\n",
    "if not os.path.exists(join(dst_folder, 'kinship')):\n",
    "    os.mkdir(join(dst_folder, 'kinship'))"
   ]
  },
  {
   "cell_type": "code",
   "execution_count": 3,
   "metadata": {},
   "outputs": [],
   "source": [
    "def isbernoulli(x):\n",
    "    x = np.asarray(x, float)\n",
    "    u = np.unique(x)\n",
    "    if len(u) == 2:\n",
    "        return True\n",
    "    return False\n",
    "\n",
    "def get_bernoulli(x):\n",
    "    x = np.asarray(x, float)\n",
    "    u = np.unique(x)\n",
    "    i0 = x == u[0]\n",
    "    i1 = x == u[1]\n",
    "    x[i0] = 0.0\n",
    "    x[i1] = 1.0\n",
    "    return x\n",
    "\n",
    "def isdiscrete(x):\n",
    "    x = np.asarray(x, float)\n",
    "    ok = np.isfinite(x)\n",
    "    return all(x[ok] == np.asarray(x[ok], int))\n",
    "\n",
    "def get_poisson(x):\n",
    "    x = np.asarray(x, float)\n",
    "    mi = min(x)    \n",
    "    if mi < 0:\n",
    "        x += -mi\n",
    "    return x\n",
    "\n",
    "def isnumber(x):\n",
    "    try:\n",
    "        np.asarray(x, float)\n",
    "    except ValueError:\n",
    "        return False\n",
    "    return True"
   ]
  },
  {
   "cell_type": "code",
   "execution_count": 4,
   "metadata": {},
   "outputs": [],
   "source": [
    "def analysis_QTL(G, pheno, kinship, pheno_name, lik, pheno_norm):\n",
    "    common_samples = set(kinship.index.values).intersection(set(pheno.index.values))\n",
    "    common_samples = np.asarray(list(common_samples))\n",
    "    \n",
    "    pheno = pheno.reindex(common_samples).copy()\n",
    "    kinship = kinship.reindex(index=common_samples).copy()\n",
    "    kinship = kinship.reindex(columns=common_samples).copy()\n",
    "    \n",
    "    assert(all(kinship.index.values == kinship.columns.values))\n",
    "    assert(all(kinship.index.values == pheno.index.values))\n",
    "\n",
    "    ok = np.isfinite(pheno.loc[:, pheno_name])\n",
    "    common_samples = common_samples[ok]\n",
    "    \n",
    "    pheno = pheno.reindex(common_samples).copy()\n",
    "    kinship = kinship.reindex(index=common_samples).copy()\n",
    "    kinship = kinship.reindex(columns=common_samples).copy()\n",
    "    \n",
    "    assert(all(kinship.index.values == kinship.columns.values))\n",
    "    assert(all(kinship.index.values == pheno.index.values))\n",
    "    \n",
    "    if not all(np.isfinite(pheno[pheno_name])):\n",
    "        raise ValueError(\"not all finite: {}\".format(pheno_name))\n",
    "    \n",
    "    y = pheno_norm(pheno.loc[:, pheno_name])\n",
    "    y = pd.Series(y, index=pheno.loc[:, pheno_name].index)\n",
    "    \n",
    "#     phenotype_series = pd.Series(y, pheno.loc[:, pheno_name].index.values)\n",
    "    obj = pkl.dumps(y)\n",
    "    m = hashlib.sha1()\n",
    "    m.update(obj)\n",
    "    phenotype_hex = m.hexdigest()\n",
    "    with open(join(dst_folder, \"phenotype\", phenotype_hex + \".series.pkl\"), \"wb\") as f:\n",
    "        f.write(obj)\n",
    "    \n",
    "    obj = pkl.dumps(kinship)\n",
    "    m = hashlib.sha1()\n",
    "    m.update(obj)\n",
    "    kinship_hex = m.hexdigest()\n",
    "    with open(join(dst_folder, \"kinship\", kinship_hex + \".dataframe.pkl\"), \"wb\") as f:\n",
    "        f.write(obj)\n",
    "\n",
    "    try:\n",
    "        call = \"limix.qtl.scan(G, y, lik, kinship, verbose=True)\"\n",
    "        model = limix.qtl.scan(G, y, lik, kinship, verbose=True)\n",
    "    except ValueError as e:\n",
    "        print(e)\n",
    "        print(\"Pheno name: {}\".format(pheno_name))\n",
    "        return None\n",
    "\n",
    "    return dict(pv=list(asarray(model.variant_pvalues)), lik=lik, call=call, phenotype=phenotype_hex, kinship=kinship_hex,\n",
    "                null_covariate_effsizes=list(asarray(model.null_covariate_effsizes)),\n",
    "                variant_effsizes=list(asarray(model.variant_effsizes)), variant_effsizes_se=list(asarray(model.variant_effsizes_se)))"
   ]
  },
  {
   "cell_type": "code",
   "execution_count": 5,
   "metadata": {},
   "outputs": [],
   "source": [
    "f = h5py.File(\"arrayexpress/HS.hdf5\", \"r\")\n",
    "samples = np.asarray(f[\"/imputed_genotypes/row_header/rat\"].value)\n",
    "samples = [i.decode() for i in samples]\n",
    "f.close()"
   ]
  },
  {
   "cell_type": "code",
   "execution_count": 6,
   "metadata": {
    "scrolled": false
   },
   "outputs": [],
   "source": [
    "data0 = deepcopy(data)\n",
    "remove = []\n",
    "for name in data0['measures'].columns.values:\n",
    "    if isnumber(data0['measures'].loc[:, name]) and isdiscrete(data0['measures'].loc[:, name]):\n",
    "        data0['measures'].loc[:, name] = get_poisson(data0['measures'].loc[:, name])\n",
    "    else:\n",
    "        remove.append(name)\n",
    "for name in remove:\n",
    "    del data0['measures'][name]"
   ]
  },
  {
   "cell_type": "code",
   "execution_count": 7,
   "metadata": {},
   "outputs": [
    {
     "name": "stderr",
     "output_type": "stream",
     "text": [
      "100%|██████████| 21/21 [00:01<00:00, 20.69it/s]\n"
     ]
    }
   ],
   "source": [
    "Gs = []\n",
    "for i in tqdm(range(1, 22)):\n",
    "    G = xr.open_dataarray(\"arrayexpress/HS.hdf5\", \"/imputed_genotypes/chr{}\".format(i),\n",
    "                          chunks=1000)\n",
    "    G = G.rename({G.dims[0]: \"snps\", G.dims[1]: \"samples\"})\n",
    "    Gs.append(G)"
   ]
  },
  {
   "cell_type": "code",
   "execution_count": 8,
   "metadata": {},
   "outputs": [],
   "source": [
    "G = xr.concat(Gs, dim=\"snps\").T\n",
    "G['samples'] = samples\n",
    "G['snps'] = range(G.shape[1])"
   ]
  },
  {
   "cell_type": "code",
   "execution_count": 9,
   "metadata": {
    "scrolled": false
   },
   "outputs": [],
   "source": [
    "# for name in data0['measures'].columns.values:\n",
    "#     print(\"Processing: {}\".format(name))\n",
    "#     dst_file = join(dst_folder, \"scan_measures_normal_\" + name + \"_mean_standardize.json\")\n",
    "#     if os.path.exists(dst_file) or os.path.exists(dst_file + \".failed\"):\n",
    "#         continue\n",
    "#     r = analysis_QTL(G, data0['measures'], data0['kinship'], name, 'normal', limix.qc.mean_standardize)\n",
    "#     if r is None:\n",
    "#         open(dst_file + \".failed\", \"w\").write(\"\")\n",
    "#     else:\n",
    "#         json.dump(r, open(dst_file, \"w\"))"
   ]
  },
  {
   "cell_type": "code",
   "execution_count": null,
   "metadata": {},
   "outputs": [
    {
     "name": "stdout",
     "output_type": "stream",
     "text": [
      "Processing: Boli_tot\n"
     ]
    },
    {
     "data": {
      "text/html": [
       "<pre><b><span style='color:#0C68C7'>============================= qtl analysis session starts ==============================</span></b></pre>"
      ],
      "text/plain": [
       "============================= qtl analysis session starts =============================="
      ]
     },
     "metadata": {},
     "output_type": "display_data"
    },
    {
     "name": "stdout",
     "output_type": "stream",
     "text": [
      "Normalising input... "
     ]
    },
    {
     "name": "stderr",
     "output_type": "stream",
     "text": [
      "/nfs/software/stegle/users/horta/conda-envs/rats/lib/python3.6/site-packages/xarray/core/indexing.py:1168: PerformanceWarning: Slicing with an out-of-order index is generating 244 times more chunks\n",
      "  return self.array[key]\n"
     ]
    },
    {
     "name": "stdout",
     "output_type": "stream",
     "text": [
      "done (5.73 seconds).\n"
     ]
    },
    {
     "name": "stderr",
     "output_type": "stream",
     "text": [
      "38it [00:00, 434.22it/s]"
     ]
    },
    {
     "name": "stdout",
     "output_type": "stream",
     "text": [
      "Scale: 1.14028\n",
      "Delta: 0.5\n",
      "Beta: [-0.]\n",
      "Scale: 1.13957\n",
      "Delta: 0.5\n",
      "Beta: [-1.21886377]\n",
      "Scale: 1.13957\n",
      "Delta: 0.5\n",
      "Beta: [-1.21886368]\n",
      "Scale: 1.13957\n",
      "Delta: 0.500001\n",
      "Beta: [-1.21886348]\n",
      "Scale: 1.13957\n",
      "Delta: 0.500001\n",
      "Beta: [-1.21886309]\n",
      "Scale: 1.13957\n",
      "Delta: 0.500002\n",
      "Beta: [-1.2188623]\n",
      "Scale: 1.13957\n",
      "Delta: 0.500005\n",
      "Beta: [-1.21886072]\n",
      "Scale: 1.13956\n",
      "Delta: 0.500009\n",
      "Beta: [-1.21885758]\n",
      "Scale: 1.13955\n",
      "Delta: 0.500019\n",
      "Beta: [-1.21885128]\n",
      "Scale: 1.13953\n",
      "Delta: 0.500038\n",
      "Beta: [-1.21883869]\n",
      "Scale: 1.13948\n",
      "Delta: 0.500076\n",
      "Beta: [-1.21881351]\n",
      "Scale: 1.13939\n",
      "Delta: 0.500153\n",
      "Beta: [-1.21876314]\n",
      "Scale: 1.1392\n",
      "Delta: 0.500305\n",
      "Beta: [-1.21866239]\n",
      "Scale: 1.13883\n",
      "Delta: 0.50061\n",
      "Beta: [-1.21846088]\n",
      "Scale: 1.1381\n",
      "Delta: 0.501221\n",
      "Beta: [-1.21805775]\n",
      "Scale: 1.13663\n",
      "Delta: 0.502441\n",
      "Beta: [-1.21725111]\n",
      "Scale: 1.13371\n",
      "Delta: 0.504883\n",
      "Beta: [-1.21563627]\n",
      "Scale: 1.12794\n",
      "Delta: 0.509765\n",
      "Beta: [-1.21240039]\n",
      "Scale: 1.11668\n",
      "Delta: 0.519522\n",
      "Beta: [-1.20590387]\n",
      "Scale: 1.09526\n",
      "Delta: 0.538985\n",
      "Beta: [-1.19281264]\n",
      "Scale: 1.0566\n",
      "Delta: 0.5775\n",
      "Beta: [-1.16624536]\n",
      "Scale: 0.994355\n",
      "Delta: 0.651363\n",
      "Beta: [-1.11165389]\n",
      "Scale: 0.917353\n",
      "Delta: 0.777312\n",
      "Beta: [-0.9975843]\n",
      "Scale: 0.869748\n",
      "Delta: 0.924152\n",
      "Beta: [-0.76070822]\n",
      "Scale: 0.888379\n",
      "Delta: 0.849099\n",
      "Beta: [-0.34960687]\n",
      "Scale: 0.878072\n",
      "Delta: 0.883155\n",
      "Beta: [-0.58675144]\n",
      "Scale: 0.89289\n",
      "Delta: 0.835891\n",
      "Beta: [-0.48827614]\n",
      "Scale: 0.893882\n",
      "Delta: 0.832902\n",
      "Beta: [-0.62178623]\n",
      "Scale: 0.894518\n",
      "Delta: 0.831178\n",
      "Beta: [-0.62950049]\n",
      "Scale: 0.894443\n",
      "Delta: 0.831369\n",
      "Beta: [-0.63391571]\n",
      "Scale: 0.894439\n",
      "Delta: 0.831379\n",
      "Beta: [-0.63342753]\n",
      "Scale: 0.89444\n",
      "Delta: 0.831378\n",
      "Beta: [-0.63340277]\n",
      "Scale: 0.89444\n",
      "Delta: 0.831378\n",
      "Beta: [-0.63340406]\n",
      "Scale: 0.89444\n",
      "Delta: 0.831378\n",
      "Beta: [-0.63340405]\n",
      "Scale: 0.89444\n",
      "Delta: 0.831378\n",
      "Beta: [-0.63340442]\n",
      "Scale: 0.89444\n",
      "Delta: 0.831378\n",
      "Beta: [-0.6334042]\n",
      "Scale: 0.89444\n",
      "Delta: 0.831378\n",
      "Beta: [-0.63340411]\n",
      "Scale: 0.89444\n",
      "Delta: 0.831378\n",
      "Beta: [-0.63340408]\n"
     ]
    },
    {
     "name": "stderr",
     "output_type": "stream",
     "text": [
      "\n",
      "Scanning: 100%|██████████| 30/30 [18:22<00:00, 36.76s/it]\n"
     ]
    },
    {
     "data": {
      "text/html": [
       "<pre><b><span style='color:#0C68C7'>===================== qtl analysis session ends in 1113.35 seconds =====================</span></b></pre>"
      ],
      "text/plain": [
       "===================== qtl analysis session ends in 1113.35 seconds ====================="
      ]
     },
     "metadata": {},
     "output_type": "display_data"
    },
    {
     "name": "stdout",
     "output_type": "stream",
     "text": [
      "Processing: Distance0_30\n"
     ]
    },
    {
     "data": {
      "text/html": [
       "<pre><b><span style='color:#0C68C7'>============================= qtl analysis session starts ==============================</span></b></pre>"
      ],
      "text/plain": [
       "============================= qtl analysis session starts =============================="
      ]
     },
     "metadata": {},
     "output_type": "display_data"
    },
    {
     "name": "stdout",
     "output_type": "stream",
     "text": [
      "Normalising input... "
     ]
    },
    {
     "name": "stderr",
     "output_type": "stream",
     "text": [
      "/nfs/software/stegle/users/horta/conda-envs/rats/lib/python3.6/site-packages/xarray/core/indexing.py:1168: PerformanceWarning: Slicing with an out-of-order index is generating 296 times more chunks\n",
      "  return self.array[key]\n"
     ]
    },
    {
     "name": "stdout",
     "output_type": "stream",
     "text": [
      "done (14.41 seconds).\n"
     ]
    },
    {
     "name": "stderr",
     "output_type": "stream",
     "text": [
      "4it [00:00, 32.00it/s]"
     ]
    },
    {
     "name": "stdout",
     "output_type": "stream",
     "text": [
      "Scale: 1.21987\n",
      "Delta: 0.5\n",
      "Beta: [-0.]\n",
      "Scale: 1.21886\n",
      "Delta: 0.5\n",
      "Beta: [-1.64691082]\n",
      "Scale: 1.21886\n",
      "Delta: 0.5\n",
      "Beta: [-1.64691063]\n",
      "Scale: 1.21886\n",
      "Delta: 0.500001\n",
      "Beta: [-1.64691027]\n",
      "Scale: 1.21886\n",
      "Delta: 0.500001\n",
      "Beta: [-1.64690954]\n",
      "Scale: 1.21886\n",
      "Delta: 0.500002\n",
      "Beta: [-1.64690809]\n",
      "Scale: 1.21886\n",
      "Delta: 0.500005\n",
      "Beta: [-1.64690517]\n",
      "Scale: 1.21885\n",
      "Delta: 0.500009\n",
      "Beta: [-1.64689935]\n",
      "Scale: 1.21884\n",
      "Delta: 0.500019\n",
      "Beta: [-1.6468877]\n",
      "Scale: 1.21881\n",
      "Delta: 0.500038\n",
      "Beta: [-1.64686441]\n",
      "Scale: 1.21876\n",
      "Delta: 0.500076\n",
      "Beta: [-1.64681782]\n",
      "Scale: 1.21866\n",
      "Delta: 0.500153\n",
      "Beta: [-1.64672465]\n",
      "Scale: 1.21846\n",
      "Delta: 0.500305\n",
      "Beta: [-1.6465383]\n",
      "Scale: 1.21805\n",
      "Delta: 0.50061\n",
      "Beta: [-1.6461656]\n",
      "Scale: 1.21724\n",
      "Delta: 0.501221\n",
      "Beta: [-1.6454202]\n",
      "Scale: 1.21563\n",
      "Delta: 0.502441\n",
      "Beta: [-1.6439294]\n",
      "Scale: 1.21243\n",
      "Delta: 0.504883\n",
      "Beta: [-1.64094777]\n",
      "Scale: 1.20609\n",
      "Delta: 0.509765\n",
      "Beta: [-1.63498455]\n",
      "Scale: 1.19375\n",
      "Delta: 0.519522\n",
      "Beta: [-1.62305903]\n",
      "Scale: 1.17029\n",
      "Delta: 0.538985\n",
      "Beta: [-1.59921772]\n",
      "Scale: 1.12808\n",
      "Delta: 0.5775\n",
      "Beta: [-1.55162193]\n",
      "Scale: 1.06049\n",
      "Delta: 0.651363\n",
      "Beta: [-1.45714764]\n",
      "Scale: 0.977962\n",
      "Delta: 0.777312\n",
      "Beta: [-1.27376122]\n",
      "Scale: 0.932951\n",
      "Delta: 0.924152\n",
      "Beta: [-0.9453886]\n",
      "Scale: 0.948201\n",
      "Delta: 0.849099\n",
      "Beta: [-0.48532627]\n",
      "Scale: 1.00297\n",
      "Delta: 0.73328\n",
      "Beta: [-0.73882372]\n",
      "Scale: 0.983875\n",
      "Delta: 0.766265\n",
      "Beta: [-1.0635786]\n",
      "Scale: 0.984642\n",
      "Delta: 0.764947\n",
      "Beta: [-0.97550333]\n",
      "Scale: 0.984805\n",
      "Delta: 0.76464\n",
      "Beta: [-0.97907488]\n",
      "Scale: 0.984795\n",
      "Delta: 0.764658\n",
      "Beta: [-0.97990623]\n",
      "Scale: 0.984795\n",
      "Delta: 0.764658\n",
      "Beta: [-0.97985845]\n"
     ]
    },
    {
     "name": "stderr",
     "output_type": "stream",
     "text": [
      "36it [00:00, 165.81it/s]"
     ]
    },
    {
     "name": "stdout",
     "output_type": "stream",
     "text": [
      "Scale: 0.984795\n",
      "Delta: 0.764658\n",
      "Beta: [-0.97985761]\n",
      "Scale: 0.984795\n",
      "Delta: 0.764658\n",
      "Beta: [-0.97985762]\n",
      "Scale: 0.984795\n",
      "Delta: 0.764658\n",
      "Beta: [-0.97985727]\n",
      "Scale: 0.984795\n",
      "Delta: 0.764658\n",
      "Beta: [-0.97985748]\n",
      "Scale: 0.984795\n",
      "Delta: 0.764658\n",
      "Beta: [-0.97985757]\n"
     ]
    },
    {
     "name": "stderr",
     "output_type": "stream",
     "text": [
      "\n",
      "Scanning: 100%|██████████| 30/30 [44:43<00:00, 89.45s/it]\n"
     ]
    },
    {
     "data": {
      "text/html": [
       "<pre><b><span style='color:#0C68C7'>===================== qtl analysis session ends in 2704.83 seconds =====================</span></b></pre>"
      ],
      "text/plain": [
       "===================== qtl analysis session ends in 2704.83 seconds ====================="
      ]
     },
     "metadata": {},
     "output_type": "display_data"
    },
    {
     "name": "stdout",
     "output_type": "stream",
     "text": [
      "Processing: Distance10_15\n"
     ]
    },
    {
     "data": {
      "text/html": [
       "<pre><b><span style='color:#0C68C7'>============================= qtl analysis session starts ==============================</span></b></pre>"
      ],
      "text/plain": [
       "============================= qtl analysis session starts =============================="
      ]
     },
     "metadata": {},
     "output_type": "display_data"
    },
    {
     "name": "stdout",
     "output_type": "stream",
     "text": [
      "Normalising input... done (17.16 seconds).\n"
     ]
    },
    {
     "name": "stderr",
     "output_type": "stream",
     "text": [
      "0it [00:00, ?it/s]"
     ]
    },
    {
     "name": "stdout",
     "output_type": "stream",
     "text": [
      "Scale: 1.25973\n",
      "Delta: 0.5\n",
      "Beta: [-0.]\n",
      "Scale: 1.25917\n",
      "Delta: 0.5\n",
      "Beta: [-1.23497001]\n",
      "Scale: 1.25917\n",
      "Delta: 0.5\n",
      "Beta: [-1.23496991]\n",
      "Scale: 1.25917\n",
      "Delta: 0.500001\n",
      "Beta: [-1.23496972]\n",
      "Scale: 1.25917\n",
      "Delta: 0.500001\n",
      "Beta: [-1.23496935]\n",
      "Scale: 1.25917\n",
      "Delta: 0.500002\n",
      "Beta: [-1.23496859]\n",
      "Scale: 1.25916\n",
      "Delta: 0.500005\n",
      "Beta: [-1.23496709]\n",
      "Scale: 1.25916\n",
      "Delta: 0.500009\n",
      "Beta: [-1.23496407]\n",
      "Scale: 1.25914\n",
      "Delta: 0.500019\n",
      "Beta: [-1.23495804]\n",
      "Scale: 1.25912\n",
      "Delta: 0.500038\n",
      "Beta: [-1.23494597]\n",
      "Scale: 1.25906\n",
      "Delta: 0.500076\n",
      "Beta: [-1.23492184]\n"
     ]
    },
    {
     "name": "stderr",
     "output_type": "stream",
     "text": [
      "46it [00:00, 145.91it/s]"
     ]
    },
    {
     "name": "stdout",
     "output_type": "stream",
     "text": [
      "Scale: 1.25896\n",
      "Delta: 0.500153\n",
      "Beta: [-1.23487357]\n",
      "Scale: 1.25875\n",
      "Delta: 0.500305\n",
      "Beta: [-1.23477703]\n",
      "Scale: 1.25832\n",
      "Delta: 0.50061\n",
      "Beta: [-1.23458388]\n",
      "Scale: 1.25748\n",
      "Delta: 0.501221\n",
      "Beta: [-1.2341974]\n",
      "Scale: 1.2558\n",
      "Delta: 0.502441\n",
      "Beta: [-1.23342365]\n",
      "Scale: 1.25245\n",
      "Delta: 0.504883\n",
      "Beta: [-1.231873]\n",
      "Scale: 1.24585\n",
      "Delta: 0.509765\n",
      "Beta: [-1.22875927]\n",
      "Scale: 1.23297\n",
      "Delta: 0.519522\n",
      "Beta: [-1.22248304]\n",
      "Scale: 1.2085\n",
      "Delta: 0.538985\n",
      "Beta: [-1.20974337]\n",
      "Scale: 1.16445\n",
      "Delta: 0.5775\n",
      "Beta: [-1.18357758]\n",
      "Scale: 1.0938\n",
      "Delta: 0.651363\n",
      "Beta: [-1.12898869]\n",
      "Scale: 1.00672\n",
      "Delta: 0.777312\n",
      "Beta: [-1.01442816]\n",
      "Scale: 0.953772\n",
      "Delta: 0.924152\n",
      "Beta: [-0.78695983]\n",
      "Scale: 0.973857\n",
      "Delta: 0.849099\n",
      "Beta: [-0.42708505]\n",
      "Scale: 1.03312\n",
      "Delta: 0.73328\n",
      "Beta: [-0.63140358]\n",
      "Scale: 0.997234\n",
      "Delta: 0.795538\n",
      "Beta: [-0.87174629]\n",
      "Scale: 0.999404\n",
      "Delta: 0.791416\n",
      "Beta: [-0.74979463]\n",
      "Scale: 0.999123\n",
      "Delta: 0.791954\n",
      "Beta: [-0.7583197]\n",
      "Scale: 0.999147\n",
      "Delta: 0.791908\n",
      "Beta: [-0.75721155]\n",
      "Scale: 0.999148\n",
      "Delta: 0.791906\n",
      "Beta: [-0.75730662]\n",
      "Scale: 0.999148\n",
      "Delta: 0.791906\n",
      "Beta: [-0.75731009]\n",
      "Scale: 0.999148\n",
      "Delta: 0.791906\n",
      "Beta: [-0.75731014]\n",
      "Scale: 0.999244\n",
      "Delta: 0.791719\n",
      "Beta: [-0.75731011]\n",
      "Scale: 0.999185\n",
      "Delta: 0.791834\n",
      "Beta: [-0.75769567]\n",
      "Scale: 0.999162\n",
      "Delta: 0.791879\n",
      "Beta: [-0.75745739]\n",
      "Scale: 0.999153\n",
      "Delta: 0.791895\n",
      "Beta: [-0.75736638]\n",
      "Scale: 0.99915\n",
      "Delta: 0.791902\n",
      "Beta: [-0.75733162]\n",
      "Scale: 0.999149\n",
      "Delta: 0.791904\n",
      "Beta: [-0.75731835]\n",
      "Scale: 0.999148\n",
      "Delta: 0.791905\n",
      "Beta: [-0.75731327]\n",
      "Scale: 0.999148\n",
      "Delta: 0.791906\n",
      "Beta: [-0.75731134]\n",
      "Scale: 0.999148\n",
      "Delta: 0.791906\n",
      "Beta: [-0.7573106]\n",
      "Scale: 0.999148\n",
      "Delta: 0.791906\n",
      "Beta: [-0.75731032]\n",
      "Scale: 0.999148\n",
      "Delta: 0.791906\n",
      "Beta: [-0.75731021]\n",
      "Scale: 0.999148\n",
      "Delta: 0.791906\n",
      "Beta: [-0.75731017]\n",
      "Scale: 0.999148\n",
      "Delta: 0.791906\n",
      "Beta: [-0.75731018]\n"
     ]
    },
    {
     "name": "stderr",
     "output_type": "stream",
     "text": [
      "\n",
      "Scanning: 100%|██████████| 30/30 [39:54<00:00, 79.81s/it]\n"
     ]
    },
    {
     "data": {
      "text/html": [
       "<pre><b><span style='color:#0C68C7'>===================== qtl analysis session ends in 2418.14 seconds =====================</span></b></pre>"
      ],
      "text/plain": [
       "===================== qtl analysis session ends in 2418.14 seconds ====================="
      ]
     },
     "metadata": {},
     "output_type": "display_data"
    },
    {
     "name": "stdout",
     "output_type": "stream",
     "text": [
      "Processing: Distance15_20\n"
     ]
    },
    {
     "data": {
      "text/html": [
       "<pre><b><span style='color:#0C68C7'>============================= qtl analysis session starts ==============================</span></b></pre>"
      ],
      "text/plain": [
       "============================= qtl analysis session starts =============================="
      ]
     },
     "metadata": {},
     "output_type": "display_data"
    },
    {
     "name": "stdout",
     "output_type": "stream",
     "text": [
      "Normalising input... done (8.8 seconds).\n"
     ]
    },
    {
     "name": "stderr",
     "output_type": "stream",
     "text": [
      "13it [00:00, 86.63it/s]"
     ]
    },
    {
     "name": "stdout",
     "output_type": "stream",
     "text": [
      "Scale: 1.27544\n",
      "Delta: 0.5\n",
      "Beta: [-0.]\n",
      "Scale: 1.27509\n",
      "Delta: 0.5\n",
      "Beta: [-0.97206538]\n",
      "Scale: 1.27509\n",
      "Delta: 0.5\n",
      "Beta: [-0.97206524]\n",
      "Scale: 1.27509\n",
      "Delta: 0.500001\n",
      "Beta: [-0.97206496]\n",
      "Scale: 1.27509\n",
      "Delta: 0.500001\n",
      "Beta: [-0.9720644]\n",
      "Scale: 1.27509\n",
      "Delta: 0.500002\n",
      "Beta: [-0.97206329]\n",
      "Scale: 1.27508\n",
      "Delta: 0.500005\n",
      "Beta: [-0.97206107]\n",
      "Scale: 1.27508\n",
      "Delta: 0.500009\n",
      "Beta: [-0.97205662]\n",
      "Scale: 1.27506\n",
      "Delta: 0.500019\n",
      "Beta: [-0.97204773]\n",
      "Scale: 1.27504\n",
      "Delta: 0.500038\n",
      "Beta: [-0.97202994]\n",
      "Scale: 1.27498\n",
      "Delta: 0.500076\n",
      "Beta: [-0.97199436]\n",
      "Scale: 1.27487\n",
      "Delta: 0.500153\n",
      "Beta: [-0.9719232]\n",
      "Scale: 1.27465\n",
      "Delta: 0.500305\n",
      "Beta: [-0.9717809]\n",
      "Scale: 1.2742\n",
      "Delta: 0.50061\n",
      "Beta: [-0.97149633]\n",
      "Scale: 1.27332\n",
      "Delta: 0.501221\n",
      "Beta: [-0.97092735]\n",
      "Scale: 1.27156\n",
      "Delta: 0.502441\n",
      "Beta: [-0.96978996]\n",
      "Scale: 1.26805\n",
      "Delta: 0.504883\n",
      "Beta: [-0.96751754]\n",
      "Scale: 1.26113\n",
      "Delta: 0.509765\n",
      "Beta: [-0.96298214]\n",
      "Scale: 1.24762\n",
      "Delta: 0.519522\n",
      "Beta: [-0.95394948]\n",
      "Scale: 1.22192\n",
      "Delta: 0.538985\n",
      "Beta: [-0.9360394]\n",
      "Scale: 1.17557\n",
      "Delta: 0.5775\n",
      "Beta: [-0.90086047]\n",
      "Scale: 1.10088\n",
      "Delta: 0.651363\n",
      "Beta: [-0.83320811]\n",
      "Scale: 1.0077\n",
      "Delta: 0.777312\n",
      "Beta: [-0.7095198]\n",
      "Scale: 0.949347\n",
      "Delta: 0.924152\n"
     ]
    },
    {
     "name": "stderr",
     "output_type": "stream",
     "text": [
      "39it [00:00, 147.49it/s]"
     ]
    },
    {
     "name": "stdout",
     "output_type": "stream",
     "text": [
      "Beta: [-0.51034246]\n",
      "Scale: 0.971589\n",
      "Delta: 0.849099\n",
      "Beta: [-0.27146319]\n",
      "Scale: 0.959022\n",
      "Delta: 0.883155\n",
      "Beta: [-0.39808125]\n",
      "Scale: 0.973719\n",
      "Delta: 0.843991\n",
      "Beta: [-0.34295142]\n",
      "Scale: 0.975154\n",
      "Delta: 0.840625\n",
      "Beta: [-0.40618481]\n",
      "Scale: 0.9749\n",
      "Delta: 0.841202\n",
      "Beta: [-0.41150775]\n",
      "Scale: 0.974892\n",
      "Delta: 0.84122\n",
      "Beta: [-0.41059695]\n",
      "Scale: 0.974893\n",
      "Delta: 0.841219\n",
      "Beta: [-0.41056776]\n",
      "Scale: 0.974893\n",
      "Delta: 0.841219\n",
      "Beta: [-0.41057054]\n",
      "Scale: 0.974893\n",
      "Delta: 0.841219\n",
      "Beta: [-0.41057052]\n",
      "Scale: 0.974892\n",
      "Delta: 0.841219\n",
      "Beta: [-0.41057051]\n",
      "Scale: 0.974893\n",
      "Delta: 0.841219\n",
      "Beta: [-0.41056946]\n",
      "Scale: 0.974893\n",
      "Delta: 0.841219\n",
      "Beta: [-0.41057011]\n",
      "Scale: 0.974893\n",
      "Delta: 0.841219\n",
      "Beta: [-0.41057036]\n",
      "Scale: 0.974893\n",
      "Delta: 0.841219\n",
      "Beta: [-0.41057046]\n",
      "Scale: 0.974893\n",
      "Delta: 0.841219\n",
      "Beta: [-0.41057049]\n"
     ]
    },
    {
     "name": "stderr",
     "output_type": "stream",
     "text": [
      "\n",
      "Scanning: 100%|██████████| 30/30 [36:34<00:00, 73.16s/it]\n"
     ]
    },
    {
     "data": {
      "text/html": [
       "<pre><b><span style='color:#0C68C7'>===================== qtl analysis session ends in 2207.36 seconds =====================</span></b></pre>"
      ],
      "text/plain": [
       "===================== qtl analysis session ends in 2207.36 seconds ====================="
      ]
     },
     "metadata": {},
     "output_type": "display_data"
    },
    {
     "name": "stdout",
     "output_type": "stream",
     "text": [
      "Processing: Distance20_25\n",
      "Processing: Distance25\n",
      "Processing: Distance25_30\n",
      "Processing: Distance5\n"
     ]
    },
    {
     "data": {
      "text/html": [
       "<pre><b><span style='color:#0C68C7'>============================= qtl analysis session starts ==============================</span></b></pre>"
      ],
      "text/plain": [
       "============================= qtl analysis session starts =============================="
      ]
     },
     "metadata": {},
     "output_type": "display_data"
    },
    {
     "name": "stdout",
     "output_type": "stream",
     "text": [
      "Normalising input... done (11.87 seconds).\n"
     ]
    },
    {
     "name": "stderr",
     "output_type": "stream",
     "text": [
      "0it [00:00, ?it/s]"
     ]
    },
    {
     "name": "stdout",
     "output_type": "stream",
     "text": [
      "Scale: 1.22761\n",
      "Delta: 0.5\n",
      "Beta: [-0.]\n",
      "Scale: 1.22696\n",
      "Delta: 0.5\n",
      "Beta: [-1.32357339]\n"
     ]
    },
    {
     "name": "stderr",
     "output_type": "stream",
     "text": [
      "12it [00:00, 84.99it/s]"
     ]
    },
    {
     "name": "stdout",
     "output_type": "stream",
     "text": [
      "Scale: 1.22696\n",
      "Delta: 0.5\n",
      "Beta: [-1.32357319]\n",
      "Scale: 1.22696\n",
      "Delta: 0.500001\n",
      "Beta: [-1.32357278]\n",
      "Scale: 1.22696\n",
      "Delta: 0.500001\n",
      "Beta: [-1.32357197]\n",
      "Scale: 1.22695\n",
      "Delta: 0.500002\n",
      "Beta: [-1.32357034]\n",
      "Scale: 1.22695\n",
      "Delta: 0.500005\n",
      "Beta: [-1.32356708]\n",
      "Scale: 1.22695\n",
      "Delta: 0.500009\n",
      "Beta: [-1.32356057]\n",
      "Scale: 1.22693\n",
      "Delta: 0.500019\n",
      "Beta: [-1.32354755]\n",
      "Scale: 1.22691\n",
      "Delta: 0.500038\n",
      "Beta: [-1.3235215]\n",
      "Scale: 1.22686\n",
      "Delta: 0.500076\n",
      "Beta: [-1.32346941]\n",
      "Scale: 1.22675\n",
      "Delta: 0.500153\n",
      "Beta: [-1.32336522]\n",
      "Scale: 1.22655\n",
      "Delta: 0.500305\n",
      "Beta: [-1.32315686]\n",
      "Scale: 1.22614\n",
      "Delta: 0.50061\n",
      "Beta: [-1.32274018]\n",
      "Scale: 1.22531\n",
      "Delta: 0.501221\n",
      "Beta: [-1.32190698]\n",
      "Scale: 1.22368\n",
      "Delta: 0.502441\n",
      "Beta: [-1.32024122]\n",
      "Scale: 1.22042\n",
      "Delta: 0.504883\n",
      "Beta: [-1.31691221]\n",
      "Scale: 1.214\n",
      "Delta: 0.509765\n",
      "Beta: [-1.31026443]\n",
      "Scale: 1.20147\n",
      "Delta: 0.519522\n",
      "Beta: [-1.29701033]\n",
      "Scale: 1.17769\n",
      "Delta: 0.538985\n",
      "Beta: [-1.27067259]\n",
      "Scale: 1.1349\n",
      "Delta: 0.5775\n",
      "Beta: [-1.21871488]\n",
      "Scale: 1.06644\n",
      "Delta: 0.651363\n",
      "Beta: [-1.1179416]\n",
      "Scale: 0.982914\n",
      "Delta: 0.777312\n",
      "Beta: [-0.93083658]\n",
      "Scale: 0.937422\n",
      "Delta: 0.924152\n",
      "Beta: [-0.62388564]\n",
      "Scale: 0.952538\n",
      "Delta: 0.849099\n",
      "Beta: [-0.26883138]\n",
      "Scale: 1.00806\n",
      "Delta: 0.73328\n",
      "Beta: [-0.45183922]\n",
      "Scale: 0.985888\n",
      "Delta: 0.771787\n",
      "Beta: [-0.73002122]\n",
      "Scale: 0.986929\n",
      "Delta: 0.769905\n",
      "Beta: [-0.63715836]\n",
      "Scale: 0.987056\n",
      "Delta: 0.769662\n",
      "Beta: [-0.64168323]\n",
      "Scale: 0.987048\n",
      "Delta: 0.769676\n",
      "Beta: [-0.64226545]\n",
      "Scale: 0.987048\n",
      "Delta: 0.769676\n",
      "Beta: [-0.64223358]\n",
      "Scale: 0.987048\n",
      "Delta: 0.769676\n",
      "Beta: [-0.64223278]\n",
      "Scale: 0.987048\n",
      "Delta: 0.769676\n",
      "Beta: [-0.6422328]\n",
      "Scale: 0.987048\n",
      "Delta: 0.769676\n",
      "Beta: [-0.64223252]\n",
      "Scale: 0.987048\n",
      "Delta: 0.769676\n",
      "Beta: [-0.64223268]\n"
     ]
    },
    {
     "name": "stderr",
     "output_type": "stream",
     "text": [
      "36it [00:00, 174.77it/s]"
     ]
    },
    {
     "name": "stdout",
     "output_type": "stream",
     "text": [
      "Scale: 0.987048\n",
      "Delta: 0.769676\n",
      "Beta: [-0.64223275]\n"
     ]
    },
    {
     "name": "stderr",
     "output_type": "stream",
     "text": [
      "\n",
      "Scanning: 100%|██████████| 30/30 [43:22<00:00, 86.76s/it]\n"
     ]
    },
    {
     "data": {
      "text/html": [
       "<pre><b><span style='color:#0C68C7'>===================== qtl analysis session ends in 2619.09 seconds =====================</span></b></pre>"
      ],
      "text/plain": [
       "===================== qtl analysis session ends in 2619.09 seconds ====================="
      ]
     },
     "metadata": {},
     "output_type": "display_data"
    },
    {
     "name": "stdout",
     "output_type": "stream",
     "text": [
      "Processing: Distance5_10\n"
     ]
    },
    {
     "data": {
      "text/html": [
       "<pre><b><span style='color:#0C68C7'>============================= qtl analysis session starts ==============================</span></b></pre>"
      ],
      "text/plain": [
       "============================= qtl analysis session starts =============================="
      ]
     },
     "metadata": {},
     "output_type": "display_data"
    },
    {
     "name": "stdout",
     "output_type": "stream",
     "text": [
      "Normalising input... done (13.69 seconds).\n"
     ]
    },
    {
     "name": "stderr",
     "output_type": "stream",
     "text": [
      "35it [00:00, 196.73it/s]"
     ]
    },
    {
     "name": "stdout",
     "output_type": "stream",
     "text": [
      "Scale: 1.29232\n",
      "Delta: 0.5\n",
      "Beta: [-0.]\n",
      "Scale: 1.2918\n",
      "Delta: 0.5\n",
      "Beta: [-1.18181643]\n",
      "Scale: 1.2918\n",
      "Delta: 0.5\n",
      "Beta: [-1.18181635]\n",
      "Scale: 1.2918\n",
      "Delta: 0.500001\n",
      "Beta: [-1.18181618]\n",
      "Scale: 1.2918\n",
      "Delta: 0.500001\n",
      "Beta: [-1.18181586]\n",
      "Scale: 1.2918\n",
      "Delta: 0.500002\n",
      "Beta: [-1.18181522]\n",
      "Scale: 1.2918\n",
      "Delta: 0.500005\n",
      "Beta: [-1.18181393]\n",
      "Scale: 1.29179\n",
      "Delta: 0.500009\n",
      "Beta: [-1.18181135]\n",
      "Scale: 1.29178\n",
      "Delta: 0.500019\n",
      "Beta: [-1.18180619]\n",
      "Scale: 1.29175\n",
      "Delta: 0.500038\n",
      "Beta: [-1.18179587]\n",
      "Scale: 1.29169\n",
      "Delta: 0.500076\n",
      "Beta: [-1.18177524]\n",
      "Scale: 1.29158\n",
      "Delta: 0.500153\n",
      "Beta: [-1.18173397]\n",
      "Scale: 1.29136\n",
      "Delta: 0.500305\n",
      "Beta: [-1.18165141]\n",
      "Scale: 1.29092\n",
      "Delta: 0.50061\n",
      "Beta: [-1.18148627]\n",
      "Scale: 1.29004\n",
      "Delta: 0.501221\n",
      "Beta: [-1.18115583]\n",
      "Scale: 1.28829\n",
      "Delta: 0.502441\n",
      "Beta: [-1.18049434]\n",
      "Scale: 1.2848\n",
      "Delta: 0.504883\n",
      "Beta: [-1.17916894]\n",
      "Scale: 1.27791\n",
      "Delta: 0.509765\n",
      "Beta: [-1.17650853]\n",
      "Scale: 1.26446\n",
      "Delta: 0.519522\n",
      "Beta: [-1.17114967]\n",
      "Scale: 1.23888\n",
      "Delta: 0.538985\n",
      "Beta: [-1.16028327]\n",
      "Scale: 1.19271\n",
      "Delta: 0.5775\n",
      "Beta: [-1.13798434]\n",
      "Scale: 1.11827\n",
      "Delta: 0.651363\n",
      "Beta: [-1.09135547]\n",
      "Scale: 1.02534\n",
      "Delta: 0.777312\n",
      "Beta: [-0.99189292]\n",
      "Scale: 0.96618\n",
      "Delta: 0.924152\n",
      "Beta: [-0.78324426]\n",
      "Scale: 0.989378\n",
      "Delta: 0.849099\n",
      "Beta: [-0.41970209]\n",
      "Scale: 0.976556\n",
      "Delta: 0.883155\n",
      "Beta: [-0.63041884]\n",
      "Scale: 0.994417\n",
      "Delta: 0.837292\n",
      "Beta: [-0.54368189]\n",
      "Scale: 0.996552\n",
      "Delta: 0.832434\n",
      "Beta: [-0.65799533]\n",
      "Scale: 0.995861\n",
      "Delta: 0.833924\n",
      "Beta: [-0.66902266]\n",
      "Scale: 0.995847\n",
      "Delta: 0.833959\n",
      "Beta: [-0.66565798]\n",
      "Scale: 0.99585\n",
      "Delta: 0.833953\n",
      "Beta: [-0.66557862]\n",
      "Scale: 0.99585\n",
      "Delta: 0.833953\n",
      "Beta: [-0.66559244]\n",
      "Scale: 0.99585\n",
      "Delta: 0.833953\n",
      "Beta: [-0.66559235]\n",
      "Scale: 0.99585\n",
      "Delta: 0.833953\n",
      "Beta: [-0.66559238]\n",
      "Scale: 0.99585\n",
      "Delta: 0.833953\n",
      "Beta: [-0.66559239]\n"
     ]
    },
    {
     "name": "stderr",
     "output_type": "stream",
     "text": [
      "\n",
      "Scanning: 100%|██████████| 30/30 [46:57<00:00, 93.92s/it]\n"
     ]
    },
    {
     "data": {
      "text/html": [
       "<pre><b><span style='color:#0C68C7'>===================== qtl analysis session ends in 2834.51 seconds =====================</span></b></pre>"
      ],
      "text/plain": [
       "===================== qtl analysis session ends in 2834.51 seconds ====================="
      ]
     },
     "metadata": {},
     "output_type": "display_data"
    },
    {
     "name": "stdout",
     "output_type": "stream",
     "text": [
      "Processing: Rearing0_30\n"
     ]
    },
    {
     "data": {
      "text/html": [
       "<pre><b><span style='color:#0C68C7'>============================= qtl analysis session starts ==============================</span></b></pre>"
      ],
      "text/plain": [
       "============================= qtl analysis session starts =============================="
      ]
     },
     "metadata": {},
     "output_type": "display_data"
    },
    {
     "name": "stdout",
     "output_type": "stream",
     "text": [
      "Normalising input... done (10.29 seconds).\n"
     ]
    },
    {
     "name": "stderr",
     "output_type": "stream",
     "text": [
      "10it [00:00, 61.88it/s]"
     ]
    },
    {
     "name": "stdout",
     "output_type": "stream",
     "text": [
      "Scale: 1.19793\n",
      "Delta: 0.5\n",
      "Beta: [-0.]\n",
      "Scale: 1.19755\n",
      "Delta: 0.5\n",
      "Beta: [-1.01495304]\n",
      "Scale: 1.19755\n",
      "Delta: 0.5\n",
      "Beta: [-1.01495285]\n",
      "Scale: 1.19755\n",
      "Delta: 0.500001\n",
      "Beta: [-1.01495246]\n",
      "Scale: 1.19755\n",
      "Delta: 0.500001\n",
      "Beta: [-1.01495169]\n",
      "Scale: 1.19755\n",
      "Delta: 0.500002\n",
      "Beta: [-1.01495014]\n",
      "Scale: 1.19755\n",
      "Delta: 0.500005\n",
      "Beta: [-1.01494704]\n",
      "Scale: 1.19754\n",
      "Delta: 0.500009\n",
      "Beta: [-1.01494083]\n",
      "Scale: 1.19753\n",
      "Delta: 0.500019\n",
      "Beta: [-1.01492843]\n",
      "Scale: 1.1975\n",
      "Delta: 0.500038\n",
      "Beta: [-1.01490363]\n",
      "Scale: 1.19745\n",
      "Delta: 0.500076\n",
      "Beta: [-1.01485402]\n",
      "Scale: 1.19735\n",
      "Delta: 0.500153\n",
      "Beta: [-1.01475482]\n",
      "Scale: 1.19715\n",
      "Delta: 0.500305\n",
      "Beta: [-1.01455644]\n",
      "Scale: 1.19674\n",
      "Delta: 0.50061\n",
      "Beta: [-1.01415978]\n",
      "Scale: 1.19593\n",
      "Delta: 0.501221\n",
      "Beta: [-1.01336691]\n",
      "Scale: 1.19431\n",
      "Delta: 0.502441\n",
      "Beta: [-1.01178292]\n",
      "Scale: 1.1911\n",
      "Delta: 0.504883\n",
      "Beta: [-1.00862192]\n",
      "Scale: 1.18475\n",
      "Delta: 0.509765\n",
      "Beta: [-1.00232786]\n",
      "Scale: 1.17238\n",
      "Delta: 0.519522\n",
      "Beta: [-0.98985132]\n",
      "Scale: 1.14886\n",
      "Delta: 0.538985\n",
      "Beta: [-0.96534333]\n",
      "Scale: 1.10653\n",
      "Delta: 0.5775\n",
      "Beta: [-0.91809505]\n",
      "Scale: 1.03862\n",
      "Delta: 0.651363\n",
      "Beta: [-0.83053996]\n",
      "Scale: 0.955274\n",
      "Delta: 0.777312\n",
      "Beta: [-0.68178296]\n",
      "Scale: 0.909661\n",
      "Delta: 0.924152\n",
      "Beta: [-0.47462485]\n",
      "Scale: 0.924532\n",
      "Delta: 0.849099\n",
      "Beta: [-0.284415]\n",
      "Scale: 0.980329\n",
      "Delta: 0.73328\n",
      "Beta: [-0.37750739]\n",
      "Scale: 0.948033\n",
      "Delta: 0.791897\n",
      "Beta: [-0.54121693]\n",
      "Scale: 0.949352\n",
      "Delta: 0.789247\n",
      "Beta: [-0.45380966]\n",
      "Scale: 0.949198\n",
      "Delta: 0.789558\n",
      "Beta: [-0.45754767]\n",
      "Scale: 0.949206\n",
      "Delta: 0.789542\n",
      "Beta: [-0.45710747]"
     ]
    },
    {
     "name": "stderr",
     "output_type": "stream",
     "text": [
      "37it [00:00, 170.83it/s]"
     ]
    },
    {
     "name": "stdout",
     "output_type": "stream",
     "text": [
      "\n",
      "Scale: 0.949207\n",
      "Delta: 0.789542\n",
      "Beta: [-0.45713023]\n",
      "Scale: 0.949207\n",
      "Delta: 0.789542\n",
      "Beta: [-0.45713084]\n",
      "Scale: 0.949207\n",
      "Delta: 0.789541\n",
      "Beta: [-0.45713084]\n",
      "Scale: 0.949207\n",
      "Delta: 0.789541\n",
      "Beta: [-0.45713096]\n",
      "Scale: 0.949207\n",
      "Delta: 0.789542\n",
      "Beta: [-0.45713089]\n",
      "Scale: 0.949207\n",
      "Delta: 0.789542\n",
      "Beta: [-0.45713086]\n",
      "Scale: 0.949207\n",
      "Delta: 0.789542\n",
      "Beta: [-0.45713087]\n"
     ]
    },
    {
     "name": "stderr",
     "output_type": "stream",
     "text": [
      "\n",
      "Scanning:   7%|▋         | 2/30 [02:52<40:20, 86.44s/it]"
     ]
    }
   ],
   "source": [
    "for name in data0['measures'].columns.values:\n",
    "    print(\"Processing: {}\".format(name))\n",
    "    dst_file = join(dst_folder, \"scan_measures_normal_\" + name + \"_quantile_gaussianize.json\")\n",
    "    if os.path.exists(dst_file) or os.path.exists(dst_file + \".failed\"):\n",
    "        continue\n",
    "    r = analysis_QTL(G, data0['measures'], data0['kinship'], name, 'normal', limix.qc.quantile_gaussianize)\n",
    "    if r is None:\n",
    "        open(dst_file + \".failed\", \"w\").write(\"\")\n",
    "    else:\n",
    "        json.dump(r, open(dst_file, \"w\"))"
   ]
  },
  {
   "cell_type": "code",
   "execution_count": null,
   "metadata": {},
   "outputs": [],
   "source": [
    "f.close()"
   ]
  },
  {
   "cell_type": "code",
   "execution_count": null,
   "metadata": {},
   "outputs": [],
   "source": []
  },
  {
   "cell_type": "code",
   "execution_count": null,
   "metadata": {},
   "outputs": [],
   "source": []
  },
  {
   "cell_type": "code",
   "execution_count": null,
   "metadata": {},
   "outputs": [],
   "source": []
  },
  {
   "cell_type": "code",
   "execution_count": null,
   "metadata": {},
   "outputs": [],
   "source": []
  },
  {
   "cell_type": "code",
   "execution_count": null,
   "metadata": {},
   "outputs": [],
   "source": []
  },
  {
   "cell_type": "code",
   "execution_count": null,
   "metadata": {},
   "outputs": [],
   "source": []
  },
  {
   "cell_type": "code",
   "execution_count": null,
   "metadata": {},
   "outputs": [],
   "source": []
  },
  {
   "cell_type": "code",
   "execution_count": null,
   "metadata": {},
   "outputs": [],
   "source": []
  },
  {
   "cell_type": "code",
   "execution_count": null,
   "metadata": {},
   "outputs": [],
   "source": []
  },
  {
   "cell_type": "code",
   "execution_count": null,
   "metadata": {},
   "outputs": [],
   "source": []
  },
  {
   "cell_type": "code",
   "execution_count": null,
   "metadata": {},
   "outputs": [],
   "source": []
  },
  {
   "cell_type": "code",
   "execution_count": null,
   "metadata": {},
   "outputs": [],
   "source": []
  },
  {
   "cell_type": "code",
   "execution_count": null,
   "metadata": {},
   "outputs": [],
   "source": []
  },
  {
   "cell_type": "code",
   "execution_count": null,
   "metadata": {},
   "outputs": [],
   "source": []
  },
  {
   "cell_type": "code",
   "execution_count": null,
   "metadata": {},
   "outputs": [],
   "source": []
  },
  {
   "cell_type": "code",
   "execution_count": null,
   "metadata": {},
   "outputs": [],
   "source": []
  },
  {
   "cell_type": "code",
   "execution_count": null,
   "metadata": {},
   "outputs": [],
   "source": []
  },
  {
   "cell_type": "code",
   "execution_count": null,
   "metadata": {},
   "outputs": [],
   "source": []
  },
  {
   "cell_type": "code",
   "execution_count": null,
   "metadata": {},
   "outputs": [],
   "source": []
  },
  {
   "cell_type": "code",
   "execution_count": null,
   "metadata": {},
   "outputs": [],
   "source": []
  },
  {
   "cell_type": "code",
   "execution_count": null,
   "metadata": {},
   "outputs": [],
   "source": []
  },
  {
   "cell_type": "code",
   "execution_count": null,
   "metadata": {},
   "outputs": [],
   "source": []
  },
  {
   "cell_type": "code",
   "execution_count": null,
   "metadata": {},
   "outputs": [],
   "source": []
  },
  {
   "cell_type": "code",
   "execution_count": null,
   "metadata": {},
   "outputs": [],
   "source": []
  },
  {
   "cell_type": "code",
   "execution_count": null,
   "metadata": {},
   "outputs": [],
   "source": []
  },
  {
   "cell_type": "code",
   "execution_count": null,
   "metadata": {},
   "outputs": [],
   "source": []
  },
  {
   "cell_type": "code",
   "execution_count": null,
   "metadata": {},
   "outputs": [],
   "source": []
  },
  {
   "cell_type": "code",
   "execution_count": null,
   "metadata": {},
   "outputs": [],
   "source": []
  },
  {
   "cell_type": "code",
   "execution_count": null,
   "metadata": {},
   "outputs": [],
   "source": []
  },
  {
   "cell_type": "code",
   "execution_count": null,
   "metadata": {},
   "outputs": [],
   "source": []
  },
  {
   "cell_type": "code",
   "execution_count": null,
   "metadata": {},
   "outputs": [],
   "source": []
  },
  {
   "cell_type": "code",
   "execution_count": null,
   "metadata": {},
   "outputs": [],
   "source": []
  },
  {
   "cell_type": "code",
   "execution_count": null,
   "metadata": {},
   "outputs": [],
   "source": []
  },
  {
   "cell_type": "code",
   "execution_count": null,
   "metadata": {},
   "outputs": [],
   "source": []
  },
  {
   "cell_type": "code",
   "execution_count": null,
   "metadata": {},
   "outputs": [],
   "source": []
  },
  {
   "cell_type": "code",
   "execution_count": null,
   "metadata": {},
   "outputs": [],
   "source": []
  },
  {
   "cell_type": "code",
   "execution_count": null,
   "metadata": {},
   "outputs": [],
   "source": []
  },
  {
   "cell_type": "code",
   "execution_count": null,
   "metadata": {},
   "outputs": [],
   "source": []
  },
  {
   "cell_type": "code",
   "execution_count": null,
   "metadata": {},
   "outputs": [],
   "source": []
  },
  {
   "cell_type": "code",
   "execution_count": null,
   "metadata": {},
   "outputs": [],
   "source": []
  },
  {
   "cell_type": "code",
   "execution_count": null,
   "metadata": {},
   "outputs": [],
   "source": []
  },
  {
   "cell_type": "code",
   "execution_count": null,
   "metadata": {},
   "outputs": [],
   "source": []
  },
  {
   "cell_type": "code",
   "execution_count": null,
   "metadata": {},
   "outputs": [],
   "source": []
  },
  {
   "cell_type": "code",
   "execution_count": null,
   "metadata": {},
   "outputs": [],
   "source": []
  },
  {
   "cell_type": "code",
   "execution_count": null,
   "metadata": {},
   "outputs": [],
   "source": []
  },
  {
   "cell_type": "code",
   "execution_count": null,
   "metadata": {},
   "outputs": [],
   "source": []
  },
  {
   "cell_type": "code",
   "execution_count": null,
   "metadata": {},
   "outputs": [],
   "source": []
  },
  {
   "cell_type": "code",
   "execution_count": null,
   "metadata": {},
   "outputs": [],
   "source": []
  },
  {
   "cell_type": "code",
   "execution_count": null,
   "metadata": {},
   "outputs": [],
   "source": []
  },
  {
   "cell_type": "code",
   "execution_count": null,
   "metadata": {},
   "outputs": [],
   "source": []
  },
  {
   "cell_type": "code",
   "execution_count": null,
   "metadata": {},
   "outputs": [],
   "source": []
  },
  {
   "cell_type": "code",
   "execution_count": null,
   "metadata": {},
   "outputs": [],
   "source": []
  },
  {
   "cell_type": "code",
   "execution_count": null,
   "metadata": {},
   "outputs": [],
   "source": []
  },
  {
   "cell_type": "code",
   "execution_count": null,
   "metadata": {},
   "outputs": [],
   "source": []
  },
  {
   "cell_type": "code",
   "execution_count": null,
   "metadata": {},
   "outputs": [],
   "source": []
  },
  {
   "cell_type": "code",
   "execution_count": null,
   "metadata": {},
   "outputs": [],
   "source": []
  },
  {
   "cell_type": "code",
   "execution_count": null,
   "metadata": {},
   "outputs": [],
   "source": []
  },
  {
   "cell_type": "code",
   "execution_count": null,
   "metadata": {},
   "outputs": [],
   "source": []
  },
  {
   "cell_type": "code",
   "execution_count": null,
   "metadata": {},
   "outputs": [],
   "source": []
  },
  {
   "cell_type": "code",
   "execution_count": null,
   "metadata": {},
   "outputs": [],
   "source": []
  },
  {
   "cell_type": "code",
   "execution_count": null,
   "metadata": {},
   "outputs": [],
   "source": []
  },
  {
   "cell_type": "code",
   "execution_count": null,
   "metadata": {},
   "outputs": [],
   "source": []
  },
  {
   "cell_type": "code",
   "execution_count": null,
   "metadata": {},
   "outputs": [],
   "source": []
  },
  {
   "cell_type": "code",
   "execution_count": null,
   "metadata": {},
   "outputs": [],
   "source": []
  },
  {
   "cell_type": "code",
   "execution_count": null,
   "metadata": {},
   "outputs": [],
   "source": []
  },
  {
   "cell_type": "code",
   "execution_count": null,
   "metadata": {},
   "outputs": [],
   "source": []
  },
  {
   "cell_type": "code",
   "execution_count": null,
   "metadata": {},
   "outputs": [],
   "source": []
  }
 ],
 "metadata": {
  "kernelspec": {
   "display_name": "Python 3",
   "language": "python",
   "name": "python3"
  },
  "language_info": {
   "codemirror_mode": {
    "name": "ipython",
    "version": 3
   },
   "file_extension": ".py",
   "mimetype": "text/x-python",
   "name": "python",
   "nbconvert_exporter": "python",
   "pygments_lexer": "ipython3",
   "version": "3.6.5"
  }
 },
 "nbformat": 4,
 "nbformat_minor": 2
}
