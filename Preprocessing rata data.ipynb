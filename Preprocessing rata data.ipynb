{
 "cells": [
  {
   "cell_type": "markdown",
   "metadata": {},
   "source": [
    "# Preprocessing rat data"
   ]
  },
  {
   "cell_type": "markdown",
   "metadata": {},
   "source": [
    "The steps performed here follow the what is described at [technical report/Hannah PrepocessingRatData.pdf](technical report/Hannah PrepocessingRatData.pdf)"
   ]
  },
  {
   "cell_type": "code",
   "execution_count": 14,
   "metadata": {},
   "outputs": [],
   "source": [
    "config <- config::get()"
   ]
  },
  {
   "cell_type": "code",
   "execution_count": 16,
   "metadata": {},
   "outputs": [],
   "source": [
    "directory <- paste(config$root, \"rawdata\", sep=\"/\")\n",
    "\n",
    "## from figshare ####\n",
    "measures <- data.table::fread(paste(directory, \"/figshare/measures.txt\", sep=\"\"),\n",
    "                  data.table=FALSE, stringsAsFactors = FALSE)\n",
    "\n",
    "## from Baud et al (2014) ####\n",
    "pheno_ScientificData <- data.table::fread(paste(directory,\n",
    "                                 \"/PublicationResults/ScientificDataS1.csv\",\n",
    "                                 sep=\"\"),\n",
    "                     data.table=FALSE, stringsAsFactors = FALSE,\n",
    "                     skip=2)[, -c(6:7)]\n",
    "colnames(pheno_ScientificData) <- gsub(\" \", \"\", colnames(pheno_ScientificData))\n",
    "pheno_ScientificData$gsub <- gsub(\"_normalized_by_batch\", \"\",\n",
    "                                  pheno_ScientificData$Measure)\n",
    "\n",
    "## from Baud et al (2013) ####\n",
    "pheno_NatGenet <- data.table::fread(paste(directory,\n",
    "                              \"/PublicationResults/\",\n",
    "                              \"SupplementaryTable1_Phenotypes.csv\", sep=\"\"),\n",
    "                              data.table=FALSE, stringsAsFactors = FALSE,\n",
    "                        skip=3)\n",
    "colnames(pheno_NatGenet) <- gsub(\" \", \"\", colnames(pheno_NatGenet))\n",
    "pheno_NatGenet$MeasureinGSCAN <- gsub(\"_bc\", \"\", pheno_NatGenet$MeasureinGSCAN)"
   ]
  },
  {
   "cell_type": "code",
   "execution_count": 18,
   "metadata": {},
   "outputs": [
    {
     "ename": "ERROR",
     "evalue": "Error in eval(expr, envir, enclos): object 'measures.shape' not found\n",
     "execution_count": 18,
     "output_type": "error",
     "traceback": [
      "Error in eval(expr, envir, enclos): object 'measures.shape' not found\nTraceback:\n"
     ]
    }
   ],
   "source": [
    "measures.shape"
   ]
  },
  {
   "cell_type": "code",
   "execution_count": null,
   "metadata": {},
   "outputs": [],
   "source": []
  },
  {
   "cell_type": "code",
   "execution_count": null,
   "metadata": {},
   "outputs": [],
   "source": []
  },
  {
   "cell_type": "code",
   "execution_count": null,
   "metadata": {},
   "outputs": [],
   "source": []
  },
  {
   "cell_type": "code",
   "execution_count": null,
   "metadata": {},
   "outputs": [],
   "source": []
  },
  {
   "cell_type": "code",
   "execution_count": null,
   "metadata": {},
   "outputs": [],
   "source": []
  },
  {
   "cell_type": "code",
   "execution_count": null,
   "metadata": {},
   "outputs": [],
   "source": []
  },
  {
   "cell_type": "code",
   "execution_count": null,
   "metadata": {},
   "outputs": [],
   "source": []
  },
  {
   "cell_type": "code",
   "execution_count": null,
   "metadata": {},
   "outputs": [],
   "source": []
  },
  {
   "cell_type": "code",
   "execution_count": null,
   "metadata": {},
   "outputs": [],
   "source": []
  },
  {
   "cell_type": "code",
   "execution_count": null,
   "metadata": {},
   "outputs": [],
   "source": []
  },
  {
   "cell_type": "code",
   "execution_count": null,
   "metadata": {},
   "outputs": [],
   "source": []
  },
  {
   "cell_type": "code",
   "execution_count": null,
   "metadata": {},
   "outputs": [],
   "source": []
  },
  {
   "cell_type": "code",
   "execution_count": null,
   "metadata": {},
   "outputs": [],
   "source": []
  },
  {
   "cell_type": "code",
   "execution_count": null,
   "metadata": {},
   "outputs": [],
   "source": []
  },
  {
   "cell_type": "code",
   "execution_count": null,
   "metadata": {},
   "outputs": [],
   "source": []
  },
  {
   "cell_type": "code",
   "execution_count": null,
   "metadata": {},
   "outputs": [],
   "source": []
  },
  {
   "cell_type": "code",
   "execution_count": null,
   "metadata": {},
   "outputs": [],
   "source": []
  },
  {
   "cell_type": "code",
   "execution_count": null,
   "metadata": {},
   "outputs": [],
   "source": []
  },
  {
   "cell_type": "code",
   "execution_count": null,
   "metadata": {},
   "outputs": [],
   "source": []
  },
  {
   "cell_type": "code",
   "execution_count": null,
   "metadata": {},
   "outputs": [],
   "source": []
  },
  {
   "cell_type": "code",
   "execution_count": null,
   "metadata": {},
   "outputs": [],
   "source": []
  },
  {
   "cell_type": "code",
   "execution_count": null,
   "metadata": {},
   "outputs": [],
   "source": []
  },
  {
   "cell_type": "code",
   "execution_count": null,
   "metadata": {},
   "outputs": [],
   "source": []
  },
  {
   "cell_type": "code",
   "execution_count": null,
   "metadata": {},
   "outputs": [],
   "source": []
  },
  {
   "cell_type": "code",
   "execution_count": null,
   "metadata": {},
   "outputs": [],
   "source": []
  },
  {
   "cell_type": "code",
   "execution_count": null,
   "metadata": {},
   "outputs": [],
   "source": []
  }
 ],
 "metadata": {
  "kernelspec": {
   "display_name": "R",
   "language": "R",
   "name": "ir"
  },
  "language_info": {
   "codemirror_mode": "r",
   "file_extension": ".r",
   "mimetype": "text/x-r-source",
   "name": "R",
   "pygments_lexer": "r",
   "version": "3.4.3"
  }
 },
 "nbformat": 4,
 "nbformat_minor": 2
}
